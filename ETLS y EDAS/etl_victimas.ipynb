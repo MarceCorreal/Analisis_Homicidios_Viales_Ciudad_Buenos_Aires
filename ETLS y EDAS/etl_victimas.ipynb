{
 "cells": [
  {
   "cell_type": "markdown",
   "metadata": {},
   "source": [
    "    El archivo homicidios viene con dos hojas de excel que son victimas y hechos, abro cada una en un notebook diferente para modificar y tranformar los valores que se necesite"
   ]
  },
  {
   "cell_type": "code",
   "execution_count": null,
   "metadata": {},
   "outputs": [],
   "source": [
    "pip install fastparquet"
   ]
  },
  {
   "cell_type": "code",
   "execution_count": null,
   "metadata": {},
   "outputs": [],
   "source": [
    "# Se incluye en esta basde de datos cualquier persona muerta ó herida como consecuencia de un siniestro vial"
   ]
  },
  {
   "cell_type": "code",
   "execution_count": 109,
   "metadata": {},
   "outputs": [],
   "source": [
    "import json\n",
    "import pandas as pd\n",
    "import gzip\n",
    "import ast\n",
    "from datetime import datetime"
   ]
  },
  {
   "cell_type": "code",
   "execution_count": 110,
   "metadata": {},
   "outputs": [],
   "source": [
    "# Abro libro hechos del archivo victimas y lo dejo como dataframe de csv\n",
    "\n",
    "victimas_original = r\"C:\\Users\\Usuario\\Henry\\PI2_DA\\Consigna\\victimas_original.csv\""
   ]
  },
  {
   "cell_type": "code",
   "execution_count": 111,
   "metadata": {},
   "outputs": [],
   "source": [
    "df_victimas = pd.read_csv(victimas_original)"
   ]
  },
  {
   "cell_type": "code",
   "execution_count": null,
   "metadata": {},
   "outputs": [],
   "source": [
    "df_victimas"
   ]
  },
  {
   "cell_type": "code",
   "execution_count": null,
   "metadata": {},
   "outputs": [],
   "source": [
    "df_victimas.info()"
   ]
  },
  {
   "cell_type": "code",
   "execution_count": null,
   "metadata": {},
   "outputs": [],
   "source": [
    "# Verifico con la función la calidad de los datos con la función"
   ]
  },
  {
   "cell_type": "code",
   "execution_count": 114,
   "metadata": {},
   "outputs": [],
   "source": [
    "def verificar_tipo_datos(df):\n",
    "# Genero Diccionario vació para almacenar información sobre cada columna\n",
    "    mi_dict = {\"nombre_campo\": [], \"tipo_datos\": [], \"no_nulos_%\": [], \"nulos_%\": [], \"nulos\": []}\n",
    "    \n",
    "# Iterar sobre  las columnas del DataFrame df\n",
    "    for columna in df.columns:\n",
    "        # Calcular el porcentaje de valores no nulos en la columna actual\n",
    "        porcentaje_no_nulos = (df[columna].count() / len(df)) * 100\n",
    "        \n",
    "# Agregar información de mi_dict\n",
    "        mi_dict[\"nombre_campo\"].append(columna)\n",
    "        mi_dict[\"tipo_datos\"].append(df[columna].apply(type).unique())\n",
    "        mi_dict[\"no_nulos_%\"].append(round(porcentaje_no_nulos, 2))\n",
    "        mi_dict[\"nulos_%\"].append(round(100 - porcentaje_no_nulos, 2))\n",
    "        mi_dict[\"nulos\"].append(df[columna].isnull().sum())\n",
    "        \n",
    "# Crear un DataFrame con la información recopilada\n",
    "    df_info = pd.DataFrame(mi_dict)\n",
    "    \n",
    "# Calcular el total de valores nulos en el DataFrame\n",
    "    total_nulos = df.isnull().sum().sum()\n",
    "    \n",
    "# Imprimir el total de valores nulos\n",
    "    print(f'Total de valores nulos en el DataFrame: {total_nulos}')\n",
    "    \n",
    "# Mostrar las columnas con valores nulos y sus respectivos porcentajes (ordenadas de mayor a menor)\n",
    "    columnas_con_nulos = df_info[df_info[\"nulos\"] > 0][[\"nombre_campo\", \"nulos_%\"]].sort_values(by=\"nulos_%\", ascending=False)\n",
    "    if not columnas_con_nulos.empty:\n",
    "        print(\"\\nColumnas con valores nulos y sus porcentajes:\")\n",
    "        print(columnas_con_nulos)\n",
    "        \n",
    "# Devolver el DataFrame con la información de cada columna\n",
    "\n",
    "    return df_info"
   ]
  },
  {
   "cell_type": "code",
   "execution_count": null,
   "metadata": {},
   "outputs": [],
   "source": [
    "verificar_tipo_datos(df_victimas)"
   ]
  },
  {
   "cell_type": "code",
   "execution_count": null,
   "metadata": {},
   "outputs": [],
   "source": [
    "df_victimas.info()"
   ]
  },
  {
   "cell_type": "code",
   "execution_count": null,
   "metadata": {},
   "outputs": [],
   "source": [
    "# Veo que no hay nulos y esta super. Tengo una columna en comun con con hechos \n",
    "# cambiaré el título po ID para poder hacer merge. la fecha se repetiria así que borrare    faltaría sexo, edad, fecha fallecimiento y ROL"
   ]
  },
  {
   "cell_type": "code",
   "execution_count": 117,
   "metadata": {},
   "outputs": [],
   "source": [
    "# Renombro columna para hacer match\n",
    "df_victimas = df_victimas.rename(columns={'ID_hecho':'ID'})"
   ]
  },
  {
   "cell_type": "code",
   "execution_count": null,
   "metadata": {},
   "outputs": [],
   "source": [
    "df_victimas.info()"
   ]
  },
  {
   "cell_type": "code",
   "execution_count": 119,
   "metadata": {},
   "outputs": [],
   "source": [
    "# Borro columnas referentes a fecha\n",
    "\n",
    "columnas_borrar = ['FECHA', 'AAAA', 'MM', 'DD']\n",
    "df_victimas = df_victimas.drop(columnas_borrar, axis=1)\n"
   ]
  },
  {
   "cell_type": "code",
   "execution_count": 120,
   "metadata": {},
   "outputs": [
    {
     "data": {
      "text/html": [
       "<div>\n",
       "<style scoped>\n",
       "    .dataframe tbody tr th:only-of-type {\n",
       "        vertical-align: middle;\n",
       "    }\n",
       "\n",
       "    .dataframe tbody tr th {\n",
       "        vertical-align: top;\n",
       "    }\n",
       "\n",
       "    .dataframe thead th {\n",
       "        text-align: right;\n",
       "    }\n",
       "</style>\n",
       "<table border=\"1\" class=\"dataframe\">\n",
       "  <thead>\n",
       "    <tr style=\"text-align: right;\">\n",
       "      <th></th>\n",
       "      <th>ID</th>\n",
       "      <th>ROL</th>\n",
       "      <th>VICTIMA</th>\n",
       "      <th>SEXO</th>\n",
       "      <th>EDAD</th>\n",
       "      <th>FECHA_FALLECIMIENTO</th>\n",
       "    </tr>\n",
       "  </thead>\n",
       "  <tbody>\n",
       "    <tr>\n",
       "      <th>0</th>\n",
       "      <td>2016-0001</td>\n",
       "      <td>CONDUCTOR</td>\n",
       "      <td>MOTO</td>\n",
       "      <td>MASCULINO</td>\n",
       "      <td>19</td>\n",
       "      <td>2016-01-01 00:00:00</td>\n",
       "    </tr>\n",
       "    <tr>\n",
       "      <th>1</th>\n",
       "      <td>2016-0002</td>\n",
       "      <td>CONDUCTOR</td>\n",
       "      <td>AUTO</td>\n",
       "      <td>MASCULINO</td>\n",
       "      <td>70</td>\n",
       "      <td>2016-01-02 00:00:00</td>\n",
       "    </tr>\n",
       "    <tr>\n",
       "      <th>2</th>\n",
       "      <td>2016-0003</td>\n",
       "      <td>CONDUCTOR</td>\n",
       "      <td>MOTO</td>\n",
       "      <td>MASCULINO</td>\n",
       "      <td>30</td>\n",
       "      <td>2016-01-03 00:00:00</td>\n",
       "    </tr>\n",
       "    <tr>\n",
       "      <th>3</th>\n",
       "      <td>2016-0004</td>\n",
       "      <td>CONDUCTOR</td>\n",
       "      <td>MOTO</td>\n",
       "      <td>MASCULINO</td>\n",
       "      <td>18</td>\n",
       "      <td>SD</td>\n",
       "    </tr>\n",
       "    <tr>\n",
       "      <th>4</th>\n",
       "      <td>2016-0005</td>\n",
       "      <td>CONDUCTOR</td>\n",
       "      <td>MOTO</td>\n",
       "      <td>MASCULINO</td>\n",
       "      <td>29</td>\n",
       "      <td>2016-02-01 00:00:00</td>\n",
       "    </tr>\n",
       "  </tbody>\n",
       "</table>\n",
       "</div>"
      ],
      "text/plain": [
       "          ID        ROL VICTIMA       SEXO EDAD  FECHA_FALLECIMIENTO\n",
       "0  2016-0001  CONDUCTOR    MOTO  MASCULINO   19  2016-01-01 00:00:00\n",
       "1  2016-0002  CONDUCTOR    AUTO  MASCULINO   70  2016-01-02 00:00:00\n",
       "2  2016-0003  CONDUCTOR    MOTO  MASCULINO   30  2016-01-03 00:00:00\n",
       "3  2016-0004  CONDUCTOR    MOTO  MASCULINO   18                   SD\n",
       "4  2016-0005  CONDUCTOR    MOTO  MASCULINO   29  2016-02-01 00:00:00"
      ]
     },
     "execution_count": 120,
     "metadata": {},
     "output_type": "execute_result"
    }
   ],
   "source": [
    "df_victimas.head()"
   ]
  },
  {
   "cell_type": "code",
   "execution_count": 121,
   "metadata": {},
   "outputs": [],
   "source": [
    "# Grabo el df que esta listo para el análisis\n",
    "\n",
    "df_victimas.to_parquet('df_victimas.parquet')\n"
   ]
  }
 ],
 "metadata": {
  "kernelspec": {
   "display_name": "Python 3",
   "language": "python",
   "name": "python3"
  },
  "language_info": {
   "codemirror_mode": {
    "name": "ipython",
    "version": 3
   },
   "file_extension": ".py",
   "mimetype": "text/x-python",
   "name": "python",
   "nbconvert_exporter": "python",
   "pygments_lexer": "ipython3",
   "version": "3.12.1"
  }
 },
 "nbformat": 4,
 "nbformat_minor": 2
}
