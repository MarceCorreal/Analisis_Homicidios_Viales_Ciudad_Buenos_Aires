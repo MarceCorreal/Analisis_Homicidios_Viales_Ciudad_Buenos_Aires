{
 "cells": [
  {
   "cell_type": "markdown",
   "metadata": {},
   "source": [
    "El archivo homicidios viene con dos hojas de excel que son victimas y hechos, abro cada una en un notebook diferente para modificar y tranformar los valores que se necesite"
   ]
  },
  {
   "cell_type": "markdown",
   "metadata": {},
   "source": [
    "La información que contiene la hoja de datos hechos es hechos de transito con vehículos en movimiento "
   ]
  },
  {
   "cell_type": "code",
   "execution_count": null,
   "metadata": {},
   "outputs": [],
   "source": [
    "pip install geopy"
   ]
  },
  {
   "cell_type": "code",
   "execution_count": 1,
   "metadata": {},
   "outputs": [],
   "source": [
    "import json\n",
    "import pandas as pd\n",
    "import ast\n",
    "from datetime import datetime, time\n",
    "from geopy.geocoders import Nominatim"
   ]
  },
  {
   "cell_type": "code",
   "execution_count": 2,
   "metadata": {},
   "outputs": [],
   "source": [
    "# Abro libro hechos del archivo homicidios y lo dejo como dataframe de csv\n",
    "\n",
    "hechos_original = r\"C:\\Users\\Usuario\\Henry\\PI2_DA\\Consigna\\hechos_original.csv\"\n"
   ]
  },
  {
   "cell_type": "code",
   "execution_count": 3,
   "metadata": {},
   "outputs": [],
   "source": [
    "df_hechos = pd.read_csv(hechos_original)"
   ]
  },
  {
   "cell_type": "code",
   "execution_count": null,
   "metadata": {},
   "outputs": [],
   "source": [
    "df_hechos.info()"
   ]
  },
  {
   "cell_type": "code",
   "execution_count": null,
   "metadata": {},
   "outputs": [],
   "source": [
    "df_hechos.head()"
   ]
  },
  {
   "cell_type": "markdown",
   "metadata": {},
   "source": [
    "Se puede ver que este conjunto de datos cuenta con 21 columnas reterentes a las caracteristicas del evento como la fecha el numero de victimas, el lugar, y la ubicación que se podría normalizar de mejor forma. inicialmente voy a dejar una columna con la fecha y la hora para borrar la columnas que contienen esta información"
   ]
  },
  {
   "cell_type": "code",
   "execution_count": 6,
   "metadata": {},
   "outputs": [],
   "source": [
    "# Borro columna HH que ya esta en hora\n",
    "\n",
    "df_hechos = df_hechos.drop(columns=['HH'])\n"
   ]
  },
  {
   "cell_type": "code",
   "execution_count": null,
   "metadata": {},
   "outputs": [],
   "source": [
    "df_hechos.info()"
   ]
  },
  {
   "cell_type": "markdown",
   "metadata": {},
   "source": [
    "Creo función para verificar datos\n",
    "Funcion verificar_tipos_datos\n",
    "\n",
    "La función verificar_tipo_datos toma un DataFrame de Pandas code argumento y realiza un análisis detallado \n",
    "de cada columna. Genera  el nombre de la columna, el tipo de datos, \n",
    "el porcentaje de valores no nulos, el porcentaje de valores nulos y la cantidad de valores \n",
    "nulos para cada columna. Muestra las columnas con valores nulos ordenadas de mayor a menor según el porcentaje de valores nulos.\n",
    "El resultado es un DataFrame que proporciona una visión detallada de la calidad de los datos en el \n",
    "DataFrame original."
   ]
  },
  {
   "cell_type": "code",
   "execution_count": 11,
   "metadata": {},
   "outputs": [
    {
     "data": {
      "text/plain": [
       "13920"
      ]
     },
     "execution_count": 11,
     "metadata": {},
     "output_type": "execute_result"
    }
   ],
   "source": [
    "df_hechos.size\n",
    "# es corto"
   ]
  },
  {
   "cell_type": "code",
   "execution_count": 225,
   "metadata": {},
   "outputs": [],
   "source": [
    "# De entrada borro na\n",
    "# df_hechos.dropna()\n",
    "# No puedo borrar los na por que me borra todo, debe haber una columna que tiene en todas las casillas ne"
   ]
  },
  {
   "cell_type": "code",
   "execution_count": 12,
   "metadata": {},
   "outputs": [],
   "source": [
    "# Borro duplicados que si puedo borrar\n",
    "\n",
    "df_hechos = df_hechos.drop_duplicates()"
   ]
  },
  {
   "cell_type": "code",
   "execution_count": 13,
   "metadata": {},
   "outputs": [
    {
     "data": {
      "text/plain": [
       "13920"
      ]
     },
     "execution_count": 13,
     "metadata": {},
     "output_type": "execute_result"
    }
   ],
   "source": [
    "df_hechos.size\n",
    "# No hay duplicados pero no sobra"
   ]
  },
  {
   "cell_type": "code",
   "execution_count": 14,
   "metadata": {},
   "outputs": [],
   "source": [
    "# Me aseguro que toda la columna de fecha tenga el mismo formato YY-MM-DD \n",
    "\n",
    "df_hechos['FECHA'] = pd.to_datetime(df_hechos['FECHA'], format='%Y-%m-%d')\n"
   ]
  },
  {
   "cell_type": "code",
   "execution_count": null,
   "metadata": {},
   "outputs": [],
   "source": [
    "df_hechos.info()"
   ]
  },
  {
   "cell_type": "code",
   "execution_count": 16,
   "metadata": {},
   "outputs": [],
   "source": [
    "# Dado que esa columna ya tiene la info de toda la fecha borro columnas de año, mes y dia\n",
    "\n",
    "columnas_borrar = ['AAAA', 'MM', 'DD']\n",
    "\n",
    "df_hechos = df_hechos.drop(columns = columnas_borrar, axis=1)\n"
   ]
  },
  {
   "cell_type": "code",
   "execution_count": null,
   "metadata": {},
   "outputs": [],
   "source": [
    "df_hechos.info()"
   ]
  },
  {
   "cell_type": "markdown",
   "metadata": {},
   "source": [
    "Ya me ocupe de la hora, ahora revisaré todas las columnas de uicación"
   ]
  },
  {
   "cell_type": "code",
   "execution_count": 157,
   "metadata": {},
   "outputs": [],
   "source": [
    "# Averiguando en Chatgpt veo la función para devolver la dirección con las coordenadas\n",
    "# para eso tomo una fila y hago el ejemplo"
   ]
  },
  {
   "cell_type": "code",
   "execution_count": 18,
   "metadata": {},
   "outputs": [],
   "source": [
    "def obtener_direccion(COORDENADAS):\n",
    "    latitud, longitud = COORDENADAS\n",
    "    geolocalizador = Nominatim(user_agent=\"mi_aplicacion\")\n",
    "    ubicacion = geolocalizador.reverse(COORDENADAS, language='es')\n",
    "    return ubicacion.address"
   ]
  },
  {
   "cell_type": "code",
   "execution_count": 19,
   "metadata": {},
   "outputs": [],
   "source": [
    "# tomo ejemplo de Coordenadas geográficas, suponiendo que posx es latitud y posy altitud\n",
    "LATITUD = -34.68757022\n",
    "LONGITUD = -58.47533969"
   ]
  },
  {
   "cell_type": "code",
   "execution_count": 23,
   "metadata": {},
   "outputs": [
    {
     "data": {
      "text/plain": [
       "'6502, Avenida General Francisco Fernández de La Cruz, Villa Riachuelo, Buenos Aires, Distrito del Deporte, Comuna 8, Ciudad Autónoma de Buenos Aires, C1439COV, Argentina'"
      ]
     },
     "execution_count": 23,
     "metadata": {},
     "output_type": "execute_result"
    }
   ],
   "source": [
    "obtener_direccion((-34.68757022, -58.47533969))"
   ]
  },
  {
   "cell_type": "code",
   "execution_count": 78,
   "metadata": {},
   "outputs": [],
   "source": [
    "# En realidad funcionó!!!, la dirección que me da el sistema es\n",
    "# Dirección: 6502, Avenida General Francisco Fernández de La Cruz, Villa Riachuelo, Buenos Aires, Distrito del Deporte, Comuna 8, Ciudad Autónoma de Buenos Aires, C1439COV, Argentina\n",
    "# Tambien cuadra numero de la comuna"
   ]
  },
  {
   "cell_type": "code",
   "execution_count": 24,
   "metadata": {},
   "outputs": [],
   "source": [
    "# ya sabiendo que si son las coordenadas, Cambio el nombre de las columnas por latitud y longitud, las junto en una que se \n",
    "# llame coordenadas y con esa columna ya tendría toda la información\n",
    "\n",
    "df_hechos = df_hechos.rename(columns={'pos x': 'LONGITUD'})\n",
    "df_hechos = df_hechos.rename(columns={'pos y': 'LATITUD'})\n"
   ]
  },
  {
   "cell_type": "code",
   "execution_count": null,
   "metadata": {},
   "outputs": [],
   "source": [
    "df_hechos.head()"
   ]
  },
  {
   "cell_type": "code",
   "execution_count": 27,
   "metadata": {},
   "outputs": [
    {
     "data": {
      "text/plain": [
       "11832"
      ]
     },
     "execution_count": 27,
     "metadata": {},
     "output_type": "execute_result"
    }
   ],
   "source": [
    "df_hechos.size"
   ]
  },
  {
   "cell_type": "code",
   "execution_count": 28,
   "metadata": {},
   "outputs": [],
   "source": [
    "# Junto las 2 columnas en una que se llame COORDENADAS, por que la función que encontré solo tiene un argumento\n",
    "\n",
    "df_hechos['COORDENADAS'] = df_hechos.apply(lambda row: (row['LONGITUD'], row['LATITUD']), axis=1)\n"
   ]
  },
  {
   "cell_type": "code",
   "execution_count": 29,
   "metadata": {},
   "outputs": [],
   "source": [
    "# con la columna coordenadas tengo toda la descripción de la ubicación, es importante comuna, \n",
    "# Me aseguro que las columnas altitud y latitud sean numericas\n",
    "\n",
    "df_hechos['ALTITUD'] = df_hechos['LATITUD'].apply(pd.to_numeric, errors='coerce')\n",
    "\n",
    "df_hechos['LONGITUD'] = df_hechos['LONGITUD'].apply(pd.to_numeric, errors='coerce')\n"
   ]
  },
  {
   "cell_type": "code",
   "execution_count": null,
   "metadata": {},
   "outputs": [],
   "source": [
    "df_hechos.head()"
   ]
  },
  {
   "cell_type": "code",
   "execution_count": 30,
   "metadata": {},
   "outputs": [],
   "source": [
    "# Con las coordenada ya tengo toda la info y puedo graficar en powebi asi que borro las que no interesan tanto\n",
    "\n",
    "Columnas_borrar = ['TIPO_DE_CALLE', 'Calle', 'Altura',  'XY (CABA)', 'LONGITUD', 'ALTITUD',\t'LUGAR_DEL_HECHO', 'LATITUD', 'PARTICIPANTES']\n"
   ]
  },
  {
   "cell_type": "code",
   "execution_count": 31,
   "metadata": {},
   "outputs": [],
   "source": [
    "df_hechos =  df_hechos.drop(Columnas_borrar, axis=1)\n"
   ]
  },
  {
   "cell_type": "code",
   "execution_count": null,
   "metadata": {},
   "outputs": [],
   "source": [
    "df_hechos.head()"
   ]
  },
  {
   "cell_type": "code",
   "execution_count": 33,
   "metadata": {},
   "outputs": [],
   "source": [
    "# Voy a renombrar Cruce y Dirección Normalizada por que todo esta en mayusculas asi que no se ve bien\n",
    "\n",
    "df_hechos = df_hechos.rename(columns={'Cruce': 'CRUCE'})\n",
    "df_hechos = df_hechos.rename(columns={'Dirección Normalizada': 'DIRECCION'})\n"
   ]
  },
  {
   "cell_type": "code",
   "execution_count": null,
   "metadata": {},
   "outputs": [],
   "source": [
    "df_hechos.head()"
   ]
  },
  {
   "cell_type": "code",
   "execution_count": 35,
   "metadata": {},
   "outputs": [],
   "source": [
    "# Desarrollo función para verificar datos en el df\n",
    "\n",
    "\n",
    "def verificar_tipo_datos(df):\n",
    "# Genero Diccionario vació para almacenar información sobre cada columna\n",
    "    mi_dict = {\"nombre_campo\": [], \"tipo_datos\": [], \"no_nulos_%\": [], \"nulos_%\": [], \"nulos\": []}\n",
    "    \n",
    "# Iterar sobre  las columnas del DataFrame df\n",
    "    for columna in df.columns:\n",
    "        # Calcular el porcentaje de valores no nulos en la columna actual\n",
    "        porcentaje_no_nulos = (df[columna].count() / len(df)) * 100\n",
    "        \n",
    "# Agregar información de mi_dict\n",
    "        mi_dict[\"nombre_campo\"].append(columna)\n",
    "        mi_dict[\"tipo_datos\"].append(df[columna].apply(type).unique())\n",
    "        mi_dict[\"no_nulos_%\"].append(round(porcentaje_no_nulos, 2))\n",
    "        mi_dict[\"nulos_%\"].append(round(100 - porcentaje_no_nulos, 2))\n",
    "        mi_dict[\"nulos\"].append(df[columna].isnull().sum())\n",
    "        \n",
    "# Crear un DataFrame con la información recopilada\n",
    "    df_info = pd.DataFrame(mi_dict)\n",
    "    \n",
    "# Calcular el total de valores nulos en el DataFrame\n",
    "    total_nulos = df.isnull().sum().sum()\n",
    "    \n",
    "# Imprimir el total de valores nulos\n",
    "    print(f'Total de valores nulos en el DataFrame: {total_nulos}')\n",
    "    \n",
    "# Mostrar las columnas con valores nulos y sus respectivos porcentajes (ordenadas de mayor a menor)\n",
    "    columnas_con_nulos = df_info[df_info[\"nulos\"] > 0][[\"nombre_campo\", \"nulos_%\"]].sort_values(by=\"nulos_%\", ascending=False)\n",
    "    if not columnas_con_nulos.empty:\n",
    "        print(\"\\nColumnas con valores nulos y sus porcentajes:\")\n",
    "        print(columnas_con_nulos)\n",
    "        \n",
    "# Devolver el DataFrame con la información de cada columna\n",
    "\n",
    "    return df_info"
   ]
  },
  {
   "cell_type": "code",
   "execution_count": 36,
   "metadata": {},
   "outputs": [
    {
     "name": "stdout",
     "output_type": "stream",
     "text": [
      "Total de valores nulos en el DataFrame: 179\n",
      "\n",
      "Columnas con valores nulos y sus porcentajes:\n",
      "  nombre_campo  nulos_%\n",
      "4        CRUCE    24.57\n",
      "5    DIRECCION     1.15\n"
     ]
    },
    {
     "data": {
      "text/html": [
       "<div>\n",
       "<style scoped>\n",
       "    .dataframe tbody tr th:only-of-type {\n",
       "        vertical-align: middle;\n",
       "    }\n",
       "\n",
       "    .dataframe tbody tr th {\n",
       "        vertical-align: top;\n",
       "    }\n",
       "\n",
       "    .dataframe thead th {\n",
       "        text-align: right;\n",
       "    }\n",
       "</style>\n",
       "<table border=\"1\" class=\"dataframe\">\n",
       "  <thead>\n",
       "    <tr style=\"text-align: right;\">\n",
       "      <th></th>\n",
       "      <th>nombre_campo</th>\n",
       "      <th>tipo_datos</th>\n",
       "      <th>no_nulos_%</th>\n",
       "      <th>nulos_%</th>\n",
       "      <th>nulos</th>\n",
       "    </tr>\n",
       "  </thead>\n",
       "  <tbody>\n",
       "    <tr>\n",
       "      <th>0</th>\n",
       "      <td>ID</td>\n",
       "      <td>[&lt;class 'str'&gt;]</td>\n",
       "      <td>100.00</td>\n",
       "      <td>0.00</td>\n",
       "      <td>0</td>\n",
       "    </tr>\n",
       "    <tr>\n",
       "      <th>1</th>\n",
       "      <td>N_VICTIMAS</td>\n",
       "      <td>[&lt;class 'int'&gt;]</td>\n",
       "      <td>100.00</td>\n",
       "      <td>0.00</td>\n",
       "      <td>0</td>\n",
       "    </tr>\n",
       "    <tr>\n",
       "      <th>2</th>\n",
       "      <td>FECHA</td>\n",
       "      <td>[&lt;class 'pandas._libs.tslibs.timestamps.Timest...</td>\n",
       "      <td>100.00</td>\n",
       "      <td>0.00</td>\n",
       "      <td>0</td>\n",
       "    </tr>\n",
       "    <tr>\n",
       "      <th>3</th>\n",
       "      <td>HORA</td>\n",
       "      <td>[&lt;class 'str'&gt;]</td>\n",
       "      <td>100.00</td>\n",
       "      <td>0.00</td>\n",
       "      <td>0</td>\n",
       "    </tr>\n",
       "    <tr>\n",
       "      <th>4</th>\n",
       "      <td>CRUCE</td>\n",
       "      <td>[&lt;class 'str'&gt;, &lt;class 'float'&gt;]</td>\n",
       "      <td>75.43</td>\n",
       "      <td>24.57</td>\n",
       "      <td>171</td>\n",
       "    </tr>\n",
       "    <tr>\n",
       "      <th>5</th>\n",
       "      <td>DIRECCION</td>\n",
       "      <td>[&lt;class 'str'&gt;, &lt;class 'float'&gt;]</td>\n",
       "      <td>98.85</td>\n",
       "      <td>1.15</td>\n",
       "      <td>8</td>\n",
       "    </tr>\n",
       "    <tr>\n",
       "      <th>6</th>\n",
       "      <td>COMUNA</td>\n",
       "      <td>[&lt;class 'int'&gt;]</td>\n",
       "      <td>100.00</td>\n",
       "      <td>0.00</td>\n",
       "      <td>0</td>\n",
       "    </tr>\n",
       "    <tr>\n",
       "      <th>7</th>\n",
       "      <td>VICTIMA</td>\n",
       "      <td>[&lt;class 'str'&gt;]</td>\n",
       "      <td>100.00</td>\n",
       "      <td>0.00</td>\n",
       "      <td>0</td>\n",
       "    </tr>\n",
       "    <tr>\n",
       "      <th>8</th>\n",
       "      <td>ACUSADO</td>\n",
       "      <td>[&lt;class 'str'&gt;]</td>\n",
       "      <td>100.00</td>\n",
       "      <td>0.00</td>\n",
       "      <td>0</td>\n",
       "    </tr>\n",
       "    <tr>\n",
       "      <th>9</th>\n",
       "      <td>COORDENADAS</td>\n",
       "      <td>[&lt;class 'tuple'&gt;]</td>\n",
       "      <td>100.00</td>\n",
       "      <td>0.00</td>\n",
       "      <td>0</td>\n",
       "    </tr>\n",
       "  </tbody>\n",
       "</table>\n",
       "</div>"
      ],
      "text/plain": [
       "  nombre_campo                                         tipo_datos  no_nulos_%  \\\n",
       "0           ID                                    [<class 'str'>]      100.00   \n",
       "1   N_VICTIMAS                                    [<class 'int'>]      100.00   \n",
       "2        FECHA  [<class 'pandas._libs.tslibs.timestamps.Timest...      100.00   \n",
       "3         HORA                                    [<class 'str'>]      100.00   \n",
       "4        CRUCE                   [<class 'str'>, <class 'float'>]       75.43   \n",
       "5    DIRECCION                   [<class 'str'>, <class 'float'>]       98.85   \n",
       "6       COMUNA                                    [<class 'int'>]      100.00   \n",
       "7      VICTIMA                                    [<class 'str'>]      100.00   \n",
       "8      ACUSADO                                    [<class 'str'>]      100.00   \n",
       "9  COORDENADAS                                  [<class 'tuple'>]      100.00   \n",
       "\n",
       "   nulos_%  nulos  \n",
       "0     0.00      0  \n",
       "1     0.00      0  \n",
       "2     0.00      0  \n",
       "3     0.00      0  \n",
       "4    24.57    171  \n",
       "5     1.15      8  \n",
       "6     0.00      0  \n",
       "7     0.00      0  \n",
       "8     0.00      0  \n",
       "9     0.00      0  "
      ]
     },
     "execution_count": 36,
     "metadata": {},
     "output_type": "execute_result"
    }
   ],
   "source": [
    "verificar_tipo_datos(df_hechos)"
   ]
  },
  {
   "cell_type": "code",
   "execution_count": null,
   "metadata": {},
   "outputs": [],
   "source": [
    "# En esta caracterización de datos veo que hay 24% de nulos en cruce, yo creo que puedo borrar la \n",
    "# columna por que no me genera mayor información pero sime quitaría mucha si los borro\n",
    "# El la columna dirección borrare los nulos por que solo es el 1.15%"
   ]
  },
  {
   "cell_type": "code",
   "execution_count": 37,
   "metadata": {},
   "outputs": [],
   "source": [
    "# Borro nulos en dirección\n",
    "\n",
    "df_hechos = df_hechos.dropna(subset=['DIRECCION'])\n"
   ]
  },
  {
   "cell_type": "code",
   "execution_count": 40,
   "metadata": {},
   "outputs": [],
   "source": [
    "# Borro columna cruce\n",
    "\n",
    "df_hechos = df_hechos.drop(columns=['CRUCE'])\n"
   ]
  },
  {
   "cell_type": "code",
   "execution_count": null,
   "metadata": {},
   "outputs": [],
   "source": [
    "# Verifico nuevamente los datos del dataset"
   ]
  },
  {
   "cell_type": "code",
   "execution_count": 41,
   "metadata": {},
   "outputs": [
    {
     "name": "stdout",
     "output_type": "stream",
     "text": [
      "Total de valores nulos en el DataFrame: 0\n"
     ]
    },
    {
     "data": {
      "text/html": [
       "<div>\n",
       "<style scoped>\n",
       "    .dataframe tbody tr th:only-of-type {\n",
       "        vertical-align: middle;\n",
       "    }\n",
       "\n",
       "    .dataframe tbody tr th {\n",
       "        vertical-align: top;\n",
       "    }\n",
       "\n",
       "    .dataframe thead th {\n",
       "        text-align: right;\n",
       "    }\n",
       "</style>\n",
       "<table border=\"1\" class=\"dataframe\">\n",
       "  <thead>\n",
       "    <tr style=\"text-align: right;\">\n",
       "      <th></th>\n",
       "      <th>nombre_campo</th>\n",
       "      <th>tipo_datos</th>\n",
       "      <th>no_nulos_%</th>\n",
       "      <th>nulos_%</th>\n",
       "      <th>nulos</th>\n",
       "    </tr>\n",
       "  </thead>\n",
       "  <tbody>\n",
       "    <tr>\n",
       "      <th>0</th>\n",
       "      <td>ID</td>\n",
       "      <td>[&lt;class 'str'&gt;]</td>\n",
       "      <td>100.0</td>\n",
       "      <td>0.0</td>\n",
       "      <td>0</td>\n",
       "    </tr>\n",
       "    <tr>\n",
       "      <th>1</th>\n",
       "      <td>N_VICTIMAS</td>\n",
       "      <td>[&lt;class 'int'&gt;]</td>\n",
       "      <td>100.0</td>\n",
       "      <td>0.0</td>\n",
       "      <td>0</td>\n",
       "    </tr>\n",
       "    <tr>\n",
       "      <th>2</th>\n",
       "      <td>FECHA</td>\n",
       "      <td>[&lt;class 'pandas._libs.tslibs.timestamps.Timest...</td>\n",
       "      <td>100.0</td>\n",
       "      <td>0.0</td>\n",
       "      <td>0</td>\n",
       "    </tr>\n",
       "    <tr>\n",
       "      <th>3</th>\n",
       "      <td>HORA</td>\n",
       "      <td>[&lt;class 'str'&gt;]</td>\n",
       "      <td>100.0</td>\n",
       "      <td>0.0</td>\n",
       "      <td>0</td>\n",
       "    </tr>\n",
       "    <tr>\n",
       "      <th>4</th>\n",
       "      <td>DIRECCION</td>\n",
       "      <td>[&lt;class 'str'&gt;]</td>\n",
       "      <td>100.0</td>\n",
       "      <td>0.0</td>\n",
       "      <td>0</td>\n",
       "    </tr>\n",
       "    <tr>\n",
       "      <th>5</th>\n",
       "      <td>COMUNA</td>\n",
       "      <td>[&lt;class 'int'&gt;]</td>\n",
       "      <td>100.0</td>\n",
       "      <td>0.0</td>\n",
       "      <td>0</td>\n",
       "    </tr>\n",
       "    <tr>\n",
       "      <th>6</th>\n",
       "      <td>VICTIMA</td>\n",
       "      <td>[&lt;class 'str'&gt;]</td>\n",
       "      <td>100.0</td>\n",
       "      <td>0.0</td>\n",
       "      <td>0</td>\n",
       "    </tr>\n",
       "    <tr>\n",
       "      <th>7</th>\n",
       "      <td>ACUSADO</td>\n",
       "      <td>[&lt;class 'str'&gt;]</td>\n",
       "      <td>100.0</td>\n",
       "      <td>0.0</td>\n",
       "      <td>0</td>\n",
       "    </tr>\n",
       "    <tr>\n",
       "      <th>8</th>\n",
       "      <td>COORDENADAS</td>\n",
       "      <td>[&lt;class 'tuple'&gt;]</td>\n",
       "      <td>100.0</td>\n",
       "      <td>0.0</td>\n",
       "      <td>0</td>\n",
       "    </tr>\n",
       "  </tbody>\n",
       "</table>\n",
       "</div>"
      ],
      "text/plain": [
       "  nombre_campo                                         tipo_datos  no_nulos_%  \\\n",
       "0           ID                                    [<class 'str'>]       100.0   \n",
       "1   N_VICTIMAS                                    [<class 'int'>]       100.0   \n",
       "2        FECHA  [<class 'pandas._libs.tslibs.timestamps.Timest...       100.0   \n",
       "3         HORA                                    [<class 'str'>]       100.0   \n",
       "4    DIRECCION                                    [<class 'str'>]       100.0   \n",
       "5       COMUNA                                    [<class 'int'>]       100.0   \n",
       "6      VICTIMA                                    [<class 'str'>]       100.0   \n",
       "7      ACUSADO                                    [<class 'str'>]       100.0   \n",
       "8  COORDENADAS                                  [<class 'tuple'>]       100.0   \n",
       "\n",
       "   nulos_%  nulos  \n",
       "0      0.0      0  \n",
       "1      0.0      0  \n",
       "2      0.0      0  \n",
       "3      0.0      0  \n",
       "4      0.0      0  \n",
       "5      0.0      0  \n",
       "6      0.0      0  \n",
       "7      0.0      0  \n",
       "8      0.0      0  "
      ]
     },
     "execution_count": 41,
     "metadata": {},
     "output_type": "execute_result"
    }
   ],
   "source": [
    "verificar_tipo_datos(df_hechos)"
   ]
  },
  {
   "cell_type": "code",
   "execution_count": null,
   "metadata": {},
   "outputs": [],
   "source": [
    "# Confirmo que los datos están listos para ser analizados en un eda, grabo el dataframe df_hechos"
   ]
  },
  {
   "cell_type": "code",
   "execution_count": 42,
   "metadata": {},
   "outputs": [],
   "source": [
    "df_hechos.to_parquet('df_hechos.parquet')\n"
   ]
  }
 ],
 "metadata": {
  "kernelspec": {
   "display_name": "Python 3",
   "language": "python",
   "name": "python3"
  },
  "language_info": {
   "codemirror_mode": {
    "name": "ipython",
    "version": 3
   },
   "file_extension": ".py",
   "mimetype": "text/x-python",
   "name": "python",
   "nbconvert_exporter": "python",
   "pygments_lexer": "ipython3",
   "version": "3.12.1"
  }
 },
 "nbformat": 4,
 "nbformat_minor": 2
}
