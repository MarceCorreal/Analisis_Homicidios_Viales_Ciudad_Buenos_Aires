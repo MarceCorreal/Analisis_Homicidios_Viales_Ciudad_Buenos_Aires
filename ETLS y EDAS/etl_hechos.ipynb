{
 "cells": [
  {
   "cell_type": "markdown",
   "metadata": {},
   "source": [
    "El archivo homicidios viene con dos hojas de excel que son victimas y hechos, abro cada una en un notebook diferente para modificar y tranformar los valores que se necesite"
   ]
  },
  {
   "cell_type": "markdown",
   "metadata": {},
   "source": [
    "La información que contiene la hoja de datos hechos es hechos de transito con vehículos en movimiento "
   ]
  },
  {
   "cell_type": "code",
   "execution_count": null,
   "metadata": {},
   "outputs": [],
   "source": [
    "pip install geopy"
   ]
  },
  {
   "cell_type": "code",
   "execution_count": 93,
   "metadata": {},
   "outputs": [],
   "source": [
    "import json\n",
    "import pandas as pd\n",
    "import ast\n",
    "from datetime import datetime, time\n",
    "from geopy.geocoders import Nominatim"
   ]
  },
  {
   "cell_type": "code",
   "execution_count": 94,
   "metadata": {},
   "outputs": [],
   "source": [
    "# Abro libro hechos del archivo homicidios y lo dejo como dataframe de csv\n",
    "\n",
    "hechos_original = r\"C:\\Users\\Usuario\\Henry\\PI2_DA\\Consigna\\hechos_original.csv\"\n"
   ]
  },
  {
   "cell_type": "code",
   "execution_count": 95,
   "metadata": {},
   "outputs": [],
   "source": [
    "df_hechos = pd.read_csv(hechos_original)"
   ]
  },
  {
   "cell_type": "code",
   "execution_count": null,
   "metadata": {},
   "outputs": [],
   "source": [
    "df_hechos"
   ]
  },
  {
   "cell_type": "code",
   "execution_count": null,
   "metadata": {},
   "outputs": [],
   "source": [
    "df_hechos.head()"
   ]
  },
  {
   "cell_type": "markdown",
   "metadata": {},
   "source": [
    "Se puede ver que este conjunto de datos cuenta con 21 columnas reterentes a las caracteristicas del evento como la fecha el numero de victimas, el lugar, y la ubicación que se podría normalizar de mejor forma. inicialmente voy a dejar una columna con la fecha y la hora para borrar la columnas que contienen esta información"
   ]
  },
  {
   "cell_type": "markdown",
   "metadata": {},
   "source": [
    "Creo función para verificar datos\n",
    "Funcion verificar_tipos_datos\n",
    "\n",
    "La función verificar_tipo_datos toma un DataFrame de Pandas code argumento y realiza un análisis detallado \n",
    "de cada columna. Genera  el nombre de la columna, el tipo de datos, \n",
    "el porcentaje de valores no nulos, el porcentaje de valores nulos y la cantidad de valores \n",
    "nulos para cada columna. Muestra las columnas con valores nulos ordenadas de mayor a menor según el porcentaje de valores nulos.\n",
    "El resultado es un DataFrame que proporciona una visión detallada de la calidad de los datos en el \n",
    "DataFrame original."
   ]
  },
  {
   "cell_type": "code",
   "execution_count": 98,
   "metadata": {},
   "outputs": [],
   "source": [
    "def verificar_tipo_datos(df):\n",
    "# Genero Diccionario vació para almacenar información sobre cada columna\n",
    "    mi_dict = {\"nombre_campo\": [], \"tipo_datos\": [], \"no_nulos_%\": [], \"nulos_%\": [], \"nulos\": []}\n",
    "    \n",
    "# Iterar sobre  las columnas del DataFrame df\n",
    "    for columna in df.columns:\n",
    "        # Calcular el porcentaje de valores no nulos en la columna actual\n",
    "        porcentaje_no_nulos = (df[columna].count() / len(df)) * 100\n",
    "        \n",
    "# Agregar información de mi_dict\n",
    "        mi_dict[\"nombre_campo\"].append(columna)\n",
    "        mi_dict[\"tipo_datos\"].append(df[columna].apply(type).unique())\n",
    "        mi_dict[\"no_nulos_%\"].append(round(porcentaje_no_nulos, 2))\n",
    "        mi_dict[\"nulos_%\"].append(round(100 - porcentaje_no_nulos, 2))\n",
    "        mi_dict[\"nulos\"].append(df[columna].isnull().sum())\n",
    "        \n",
    "# Crear un DataFrame con la información recopilada\n",
    "    df_info = pd.DataFrame(mi_dict)\n",
    "    \n",
    "# Calcular el total de valores nulos en el DataFrame\n",
    "    total_nulos = df.isnull().sum().sum()\n",
    "    \n",
    "# Imprimir el total de valores nulos\n",
    "    print(f'Total de valores nulos en el DataFrame: {total_nulos}')\n",
    "    \n",
    "# Mostrar las columnas con valores nulos y sus respectivos porcentajes (ordenadas de mayor a menor)\n",
    "    columnas_con_nulos = df_info[df_info[\"nulos\"] > 0][[\"nombre_campo\", \"nulos_%\"]].sort_values(by=\"nulos_%\", ascending=False)\n",
    "    if not columnas_con_nulos.empty:\n",
    "        print(\"\\nColumnas con valores nulos y sus porcentajes:\")\n",
    "        print(columnas_con_nulos)\n",
    "        \n",
    "# Devolver el DataFrame con la información de cada columna\n",
    "\n",
    "    return df_info"
   ]
  },
  {
   "cell_type": "code",
   "execution_count": null,
   "metadata": {},
   "outputs": [],
   "source": [
    "verificar_tipo_datos(df_hechos)\n"
   ]
  },
  {
   "cell_type": "code",
   "execution_count": 100,
   "metadata": {},
   "outputs": [
    {
     "data": {
      "text/plain": [
       "14616"
      ]
     },
     "execution_count": 100,
     "metadata": {},
     "output_type": "execute_result"
    }
   ],
   "source": [
    "df_hechos.size\n",
    "# es corto"
   ]
  },
  {
   "cell_type": "code",
   "execution_count": null,
   "metadata": {},
   "outputs": [],
   "source": [
    "# La totalidad de nulos fueron 747 que es el   5.11% que es bastante aceptable\n",
    "# Así que borro columna de altura que no sirve para nada por que ya tengo coordenadas\n",
    "\n",
    "# Cruce y  direcccion y borro borro na por que deprondto me sirve la calle"
   ]
  },
  {
   "cell_type": "code",
   "execution_count": 101,
   "metadata": {},
   "outputs": [],
   "source": [
    "df_hechos = df_hechos.drop('Altura', axis=1)"
   ]
  },
  {
   "cell_type": "code",
   "execution_count": 102,
   "metadata": {},
   "outputs": [],
   "source": [
    "df_hechos['Dirección Normalizada'].dropna(inplace=True)"
   ]
  },
  {
   "cell_type": "code",
   "execution_count": 103,
   "metadata": {},
   "outputs": [],
   "source": [
    "df_hechos['Cruce'].dropna(inplace=True)"
   ]
  },
  {
   "cell_type": "code",
   "execution_count": null,
   "metadata": {},
   "outputs": [],
   "source": [
    "df_hechos.head()"
   ]
  },
  {
   "cell_type": "code",
   "execution_count": 105,
   "metadata": {},
   "outputs": [],
   "source": [
    "# Borro columna HH que ya esta en hora\n",
    "\n",
    "df_hechos = df_hechos.drop(columns=['HH'])\n"
   ]
  },
  {
   "cell_type": "code",
   "execution_count": 106,
   "metadata": {},
   "outputs": [
    {
     "data": {
      "text/plain": [
       "13224"
      ]
     },
     "execution_count": 106,
     "metadata": {},
     "output_type": "execute_result"
    }
   ],
   "source": [
    "df_hechos.size"
   ]
  },
  {
   "cell_type": "code",
   "execution_count": 107,
   "metadata": {},
   "outputs": [],
   "source": [
    "# Me aseguro que toda la columna de fecha tenga el mismo formato YY-MM-DD \n",
    "\n",
    "df_hechos['FECHA'] = pd.to_datetime(df_hechos['FECHA'], format='%Y-%m-%d')\n"
   ]
  },
  {
   "cell_type": "code",
   "execution_count": 108,
   "metadata": {},
   "outputs": [],
   "source": [
    "# Dado que esa columna ya tiene la info de toda la fecha borro columnas de año, mes y dia\n",
    "\n",
    "columnas_borrar = ['AAAA', 'MM', 'DD']\n",
    "\n",
    "df_hechos = df_hechos.drop(columns = columnas_borrar, axis=1)\n"
   ]
  },
  {
   "cell_type": "code",
   "execution_count": null,
   "metadata": {},
   "outputs": [],
   "source": [
    "df_hechos.info()"
   ]
  },
  {
   "cell_type": "code",
   "execution_count": 110,
   "metadata": {},
   "outputs": [],
   "source": [
    "\n",
    "# Utilizo una función para convertir diferentes tipos de entradas a un objeto de tiempo\n",
    "\n",
    "def convertir_tiempo(x):\n",
    "    # Verificamos si la entrada es una cadena de texto\n",
    "    if isinstance(x, str):\n",
    "        try:\n",
    "            # Intentamos convertir la cadena de texto a un objeto de tiempo y lo retornamos\n",
    "            return datetime.strptime(x, \"%H:%M:%S\").time()\n",
    "        except ValueError:\n",
    "            # Si hay un error en la conversión, retornamos None\n",
    "            return None\n",
    "    # Verificamos si la entrada es un objeto datetime\n",
    "    elif isinstance(x, datetime):\n",
    "        # Convertimos el objeto datetime a su correspondiente objeto de tiempo y lo retornamos\n",
    "        return x.time()\n",
    "    # Si la entrada no es ni cadena de texto ni datetime, retornamos la entrada sin modificar\n",
    "    return x"
   ]
  },
  {
   "cell_type": "code",
   "execution_count": 111,
   "metadata": {},
   "outputs": [],
   "source": [
    "# Cambiamos el tipo de dato de la columna 'Hora' aplicando la función convertir_tiempo a cada elemento.\n",
    "# Esta función ajusta los valores a un formato de tiempo estandarizado o retorna None si la conversión no es posible.\n",
    "df_hechos['HORA'] = df_hechos['HORA'].apply(lambda x: convertir_tiempo(x))"
   ]
  },
  {
   "cell_type": "code",
   "execution_count": null,
   "metadata": {},
   "outputs": [],
   "source": [
    "# Imprimo y buscamos registros donde la columna 'Hora' es de tipo NoneType,\n",
    "# lo que indica que la conversión no fue posible para esos registros.\n",
    "print('Registro con NoneType:')\n",
    "df_hechos[df_hechos['HORA'].isna()]\n",
    "\n",
    "# Ya no hay registros raros"
   ]
  },
  {
   "cell_type": "code",
   "execution_count": 113,
   "metadata": {},
   "outputs": [
    {
     "name": "stdout",
     "output_type": "stream",
     "text": [
      "La hora mas común es: 09:00:00\n"
     ]
    }
   ],
   "source": [
    "# saco la moda de la columna para saber cual es la hora mas comun y rellenan\n",
    "\n",
    "# calcula la hora mas común\n",
    "hora_moda = df_hechos['HORA'].mode().iloc[0]\n",
    "print(f'La hora mas común es: {hora_moda}')\n"
   ]
  },
  {
   "cell_type": "code",
   "execution_count": 114,
   "metadata": {},
   "outputs": [],
   "source": [
    "# Reemplazo el valor None por la hora más común\n",
    "df_hechos['HORA'].fillna(hora_moda, inplace=True)\n"
   ]
  },
  {
   "cell_type": "code",
   "execution_count": null,
   "metadata": {},
   "outputs": [],
   "source": [
    "# Ahora si trato de cambiar el tipo de dato otra vez\n",
    "\n",
    "# df_hechos['HORA'] = pd.to_datetime(df_hechos['HORA']).dt.time\n",
    "\n",
    "# Para dejarla como fecha la tengo que juntar con la fecha y pued prefiero entonces dejarla en objeto\n"
   ]
  },
  {
   "cell_type": "code",
   "execution_count": null,
   "metadata": {},
   "outputs": [],
   "source": [
    "df_hechos.head()"
   ]
  },
  {
   "cell_type": "code",
   "execution_count": 116,
   "metadata": {},
   "outputs": [
    {
     "data": {
      "text/plain": [
       "HORA\n",
       "<class 'datetime.time'>    696\n",
       "Name: count, dtype: int64"
      ]
     },
     "execution_count": 116,
     "metadata": {},
     "output_type": "execute_result"
    }
   ],
   "source": [
    "# Se imputa la hora moda al dato faltante\n",
    "df_hechos['HORA'] = df_hechos['HORA'].apply(lambda x: int(hora_moda.hour) if x == \"SD\" else x)\n",
    "# Se verifica el tipo de dato\n",
    "df_hechos['HORA'].apply(type).value_counts()"
   ]
  },
  {
   "cell_type": "code",
   "execution_count": null,
   "metadata": {},
   "outputs": [],
   "source": [
    "df_hechos.head()"
   ]
  },
  {
   "cell_type": "code",
   "execution_count": 118,
   "metadata": {},
   "outputs": [
    {
     "data": {
      "text/plain": [
       "HORA\n",
       "<class 'datetime.time'>    696\n",
       "Name: count, dtype: int64"
      ]
     },
     "execution_count": 118,
     "metadata": {},
     "output_type": "execute_result"
    }
   ],
   "source": [
    "# Se reemplaza el valor None por la hora más común\n",
    "df_hechos['HORA'].fillna(hora_moda, inplace=True)\n",
    "\n",
    "# se verifica el tipo de dato para la columna\n",
    "df_hechos['HORA'].apply(type).value_counts()"
   ]
  },
  {
   "cell_type": "markdown",
   "metadata": {},
   "source": [
    "Ya me ocupe de la fecha, ahora revisaré todas las columnas de ubicación "
   ]
  },
  {
   "cell_type": "code",
   "execution_count": 17,
   "metadata": {},
   "outputs": [],
   "source": [
    "# Averiguando en Chatgpt veo la función para devolver la dirección con las coordenadas\n",
    "# para eso tomo una fila y hago el ejemplo"
   ]
  },
  {
   "cell_type": "code",
   "execution_count": 119,
   "metadata": {},
   "outputs": [],
   "source": [
    "def obtener_direccion(COORDENADAS):\n",
    "    latitud, longitud = COORDENADAS\n",
    "    geolocalizador = Nominatim(user_agent=\"mi_aplicacion\")\n",
    "    ubicacion = geolocalizador.reverse(COORDENADAS, language='es')\n",
    "    return ubicacion.address"
   ]
  },
  {
   "cell_type": "code",
   "execution_count": 120,
   "metadata": {},
   "outputs": [],
   "source": [
    "# tomo ejemplo de Coordenadas geográficas, suponiendo que posx es latitud y posy altitud\n",
    "LATITUD = -34.68757022\n",
    "LONGITUD = -58.47533969"
   ]
  },
  {
   "cell_type": "code",
   "execution_count": 121,
   "metadata": {},
   "outputs": [
    {
     "data": {
      "text/plain": [
       "'6502, Avenida General Francisco Fernández de La Cruz, Villa Riachuelo, Buenos Aires, Distrito del Deporte, Comuna 8, Ciudad Autónoma de Buenos Aires, C1439COV, Argentina'"
      ]
     },
     "execution_count": 121,
     "metadata": {},
     "output_type": "execute_result"
    }
   ],
   "source": [
    "obtener_direccion((-34.68757022, -58.47533969))"
   ]
  },
  {
   "cell_type": "code",
   "execution_count": 78,
   "metadata": {},
   "outputs": [],
   "source": [
    "# En realidad funcionó!!!, la dirección que me da el sistema es\n",
    "# Dirección: 6502, Avenida General Francisco Fernández de La Cruz, Villa Riachuelo, Buenos Aires, Distrito del Deporte, Comuna 8, Ciudad Autónoma de Buenos Aires, C1439COV, Argentina\n",
    "# Tambien cuadra numero de la comuna"
   ]
  },
  {
   "cell_type": "code",
   "execution_count": 122,
   "metadata": {},
   "outputs": [],
   "source": [
    "# ya sabiendo que si son las coordenadas, Cambio el nombre de las columnas por latitud y longitud, las junto en una que se \n",
    "# llame coordenadas y con esa columna ya tendría toda la información\n",
    "\n",
    "df_hechos = df_hechos.rename(columns={'pos x': 'LONGITUD'})\n",
    "df_hechos = df_hechos.rename(columns={'pos y': 'LATITUD'})\n"
   ]
  },
  {
   "cell_type": "code",
   "execution_count": null,
   "metadata": {},
   "outputs": [],
   "source": [
    "df_hechos.head()"
   ]
  },
  {
   "cell_type": "code",
   "execution_count": 124,
   "metadata": {},
   "outputs": [
    {
     "data": {
      "text/plain": [
       "11136"
      ]
     },
     "execution_count": 124,
     "metadata": {},
     "output_type": "execute_result"
    }
   ],
   "source": [
    "df_hechos.size"
   ]
  },
  {
   "cell_type": "code",
   "execution_count": 125,
   "metadata": {},
   "outputs": [],
   "source": [
    "# Junto las 2 columnas en una que se llame COORDENADAS, por que la función que encontré solo tiene un argumento\n",
    "\n",
    "df_hechos['COORDENADAS'] = df_hechos.apply(lambda row: (row['LONGITUD'], row['LATITUD']), axis=1)\n"
   ]
  },
  {
   "cell_type": "code",
   "execution_count": null,
   "metadata": {},
   "outputs": [],
   "source": [
    "df_hechos.head()"
   ]
  },
  {
   "cell_type": "code",
   "execution_count": 127,
   "metadata": {},
   "outputs": [],
   "source": [
    "# Con las coordenada ya tengo toda la info y puedo graficar en powebi asi que borro las que no interesan tanto\n",
    "\n",
    "Columnas_borrar = ['TIPO_DE_CALLE', 'Calle',  'XY (CABA)', 'LONGITUD', 'LUGAR_DEL_HECHO', 'LATITUD', 'PARTICIPANTES']\n"
   ]
  },
  {
   "cell_type": "code",
   "execution_count": 128,
   "metadata": {},
   "outputs": [],
   "source": [
    "df_hechos =  df_hechos.drop(Columnas_borrar, axis=1)\n"
   ]
  },
  {
   "cell_type": "code",
   "execution_count": null,
   "metadata": {},
   "outputs": [],
   "source": [
    "df_hechos.head()"
   ]
  },
  {
   "cell_type": "code",
   "execution_count": null,
   "metadata": {},
   "outputs": [],
   "source": [
    "df_hechos.info()"
   ]
  },
  {
   "cell_type": "code",
   "execution_count": 131,
   "metadata": {},
   "outputs": [],
   "source": [
    "# Para que haga merge cambio el nombre id\n",
    "\n",
    "df_hechos = df_hechos.rename(columns={'ID': 'ID_hecho'})"
   ]
  },
  {
   "cell_type": "code",
   "execution_count": 133,
   "metadata": {},
   "outputs": [],
   "source": [
    "# Voy a renombrar Cruce y Dirección Normalizada por que todo esta en mayusculas asi que no se ve bien\n",
    "\n",
    "df_hechos = df_hechos.rename(columns={'Cruce': 'CRUCE'})\n",
    "df_hechos = df_hechos.rename(columns={'Dirección Normalizada': 'DIRECCION'})\n"
   ]
  },
  {
   "cell_type": "code",
   "execution_count": null,
   "metadata": {},
   "outputs": [],
   "source": [
    "df_hechos.head()"
   ]
  },
  {
   "cell_type": "code",
   "execution_count": 135,
   "metadata": {},
   "outputs": [],
   "source": [
    "# Borro nulos en dirección\n",
    "\n",
    "df_hechos = df_hechos.dropna(subset=['DIRECCION'])\n"
   ]
  },
  {
   "cell_type": "code",
   "execution_count": null,
   "metadata": {},
   "outputs": [],
   "source": [
    "# Confirmo que los datos están listos para ser analizados en un eda, grabo el dataframe df_hechos \n",
    "#Pero no me dejo grabarlo por que indicaba que no entendía el tipo de bojeto coordenada asi que tocó \n",
    "# Define una función para convertir las cadenas de texto en tuplas de números\n"
   ]
  },
  {
   "cell_type": "code",
   "execution_count": 137,
   "metadata": {},
   "outputs": [
    {
     "data": {
      "text/html": [
       "<div>\n",
       "<style scoped>\n",
       "    .dataframe tbody tr th:only-of-type {\n",
       "        vertical-align: middle;\n",
       "    }\n",
       "\n",
       "    .dataframe tbody tr th {\n",
       "        vertical-align: top;\n",
       "    }\n",
       "\n",
       "    .dataframe thead th {\n",
       "        text-align: right;\n",
       "    }\n",
       "</style>\n",
       "<table border=\"1\" class=\"dataframe\">\n",
       "  <thead>\n",
       "    <tr style=\"text-align: right;\">\n",
       "      <th></th>\n",
       "      <th>ID_hecho</th>\n",
       "      <th>N_VICTIMAS</th>\n",
       "      <th>FECHA</th>\n",
       "      <th>HORA</th>\n",
       "      <th>DIRECCION</th>\n",
       "      <th>COMUNA</th>\n",
       "      <th>VICTIMA</th>\n",
       "      <th>ACUSADO</th>\n",
       "      <th>COORDENADAS</th>\n",
       "    </tr>\n",
       "  </thead>\n",
       "  <tbody>\n",
       "    <tr>\n",
       "      <th>0</th>\n",
       "      <td>2016-0001</td>\n",
       "      <td>1</td>\n",
       "      <td>2016-01-01</td>\n",
       "      <td>04:00:00</td>\n",
       "      <td>PIEDRA BUENA AV. y FERNANDEZ DE LA CRUZ, F., G...</td>\n",
       "      <td>8</td>\n",
       "      <td>MOTO</td>\n",
       "      <td>AUTO</td>\n",
       "      <td>(-58.47533969, -34.68757022)</td>\n",
       "    </tr>\n",
       "    <tr>\n",
       "      <th>1</th>\n",
       "      <td>2016-0002</td>\n",
       "      <td>1</td>\n",
       "      <td>2016-01-02</td>\n",
       "      <td>01:15:00</td>\n",
       "      <td>PAZ, GRAL. AV. y DE LOS CORRALES AV.</td>\n",
       "      <td>9</td>\n",
       "      <td>AUTO</td>\n",
       "      <td>PASAJEROS</td>\n",
       "      <td>(-58.50877521, -34.66977709)</td>\n",
       "    </tr>\n",
       "    <tr>\n",
       "      <th>2</th>\n",
       "      <td>2016-0003</td>\n",
       "      <td>1</td>\n",
       "      <td>2016-01-03</td>\n",
       "      <td>07:00:00</td>\n",
       "      <td>ENTRE RIOS AV. 2034</td>\n",
       "      <td>1</td>\n",
       "      <td>MOTO</td>\n",
       "      <td>AUTO</td>\n",
       "      <td>(-58.39040293, -34.63189362)</td>\n",
       "    </tr>\n",
       "    <tr>\n",
       "      <th>3</th>\n",
       "      <td>2016-0004</td>\n",
       "      <td>1</td>\n",
       "      <td>2016-01-10</td>\n",
       "      <td>00:00:00</td>\n",
       "      <td>LARRAZABAL AV. y VILLEGAS, CONRADO, GRAL.</td>\n",
       "      <td>8</td>\n",
       "      <td>MOTO</td>\n",
       "      <td>SD</td>\n",
       "      <td>(-58.46503904, -34.68092974)</td>\n",
       "    </tr>\n",
       "    <tr>\n",
       "      <th>4</th>\n",
       "      <td>2016-0005</td>\n",
       "      <td>1</td>\n",
       "      <td>2016-01-21</td>\n",
       "      <td>05:20:00</td>\n",
       "      <td>SAN JUAN AV. y SAENZ PEÃ‘A, LUIS, PRES.</td>\n",
       "      <td>1</td>\n",
       "      <td>MOTO</td>\n",
       "      <td>PASAJEROS</td>\n",
       "      <td>(-58.38718297, -34.62246630)</td>\n",
       "    </tr>\n",
       "  </tbody>\n",
       "</table>\n",
       "</div>"
      ],
      "text/plain": [
       "    ID_hecho  N_VICTIMAS      FECHA      HORA  \\\n",
       "0  2016-0001           1 2016-01-01  04:00:00   \n",
       "1  2016-0002           1 2016-01-02  01:15:00   \n",
       "2  2016-0003           1 2016-01-03  07:00:00   \n",
       "3  2016-0004           1 2016-01-10  00:00:00   \n",
       "4  2016-0005           1 2016-01-21  05:20:00   \n",
       "\n",
       "                                           DIRECCION  COMUNA VICTIMA  \\\n",
       "0  PIEDRA BUENA AV. y FERNANDEZ DE LA CRUZ, F., G...       8    MOTO   \n",
       "1               PAZ, GRAL. AV. y DE LOS CORRALES AV.       9    AUTO   \n",
       "2                                ENTRE RIOS AV. 2034       1    MOTO   \n",
       "3          LARRAZABAL AV. y VILLEGAS, CONRADO, GRAL.       8    MOTO   \n",
       "4            SAN JUAN AV. y SAENZ PEÃ‘A, LUIS, PRES.       1    MOTO   \n",
       "\n",
       "     ACUSADO                   COORDENADAS  \n",
       "0       AUTO  (-58.47533969, -34.68757022)  \n",
       "1  PASAJEROS  (-58.50877521, -34.66977709)  \n",
       "2       AUTO  (-58.39040293, -34.63189362)  \n",
       "3         SD  (-58.46503904, -34.68092974)  \n",
       "4  PASAJEROS  (-58.38718297, -34.62246630)  "
      ]
     },
     "execution_count": 137,
     "metadata": {},
     "output_type": "execute_result"
    }
   ],
   "source": [
    "df_hechos.head()"
   ]
  },
  {
   "cell_type": "code",
   "execution_count": null,
   "metadata": {},
   "outputs": [],
   "source": [
    "df_hechos.info()"
   ]
  },
  {
   "cell_type": "code",
   "execution_count": 143,
   "metadata": {},
   "outputs": [],
   "source": [
    "df_hechos.to_parquet('df_hechos.parquet')\n"
   ]
  }
 ],
 "metadata": {
  "kernelspec": {
   "display_name": "Python 3",
   "language": "python",
   "name": "python3"
  },
  "language_info": {
   "codemirror_mode": {
    "name": "ipython",
    "version": 3
   },
   "file_extension": ".py",
   "mimetype": "text/x-python",
   "name": "python",
   "nbconvert_exporter": "python",
   "pygments_lexer": "ipython3",
   "version": "3.12.1"
  }
 },
 "nbformat": 4,
 "nbformat_minor": 2
}
