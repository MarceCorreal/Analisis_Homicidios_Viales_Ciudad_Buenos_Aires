{
 "cells": [
  {
   "cell_type": "markdown",
   "metadata": {},
   "source": [
    "El archivo homicidios viene con dos hojas de excel que son victimas y hechos, abro cada una en un notebook diferente para modificar y tranformar los valores que se necesite"
   ]
  },
  {
   "cell_type": "markdown",
   "metadata": {},
   "source": [
    "La información que contiene la hoja de datos hechos es hechos de transito con vehículos en movimiento "
   ]
  },
  {
   "cell_type": "code",
   "execution_count": null,
   "metadata": {},
   "outputs": [],
   "source": [
    "pip install geopy"
   ]
  },
  {
   "cell_type": "code",
   "execution_count": 3,
   "metadata": {},
   "outputs": [],
   "source": [
    "import json\n",
    "import pandas as pd\n",
    "import ast\n",
    "from datetime import datetime, time\n",
    "from geopy.geocoders import Nominatim"
   ]
  },
  {
   "cell_type": "code",
   "execution_count": 4,
   "metadata": {},
   "outputs": [],
   "source": [
    "# Abro libro hechos del archivo homicidios y lo dejo como dataframe de csv\n",
    "\n",
    "hechos_original = r\"C:\\Users\\Usuario\\Henry\\PI2_DA\\Consigna\\hechos_original.csv\"\n"
   ]
  },
  {
   "cell_type": "code",
   "execution_count": 5,
   "metadata": {},
   "outputs": [],
   "source": [
    "df_hechos = pd.read_csv(hechos_original)"
   ]
  },
  {
   "cell_type": "code",
   "execution_count": null,
   "metadata": {},
   "outputs": [],
   "source": [
    "df_hechos.info()"
   ]
  },
  {
   "cell_type": "code",
   "execution_count": null,
   "metadata": {},
   "outputs": [],
   "source": [
    "df_hechos.head()"
   ]
  },
  {
   "cell_type": "markdown",
   "metadata": {},
   "source": [
    "Se puede ver que este conjunto de datos cuenta con 21 columnas reterentes a las caracteristicas del evento como la fecha el numero de victimas, el lugar, y la ubicación que se podría normalizar de mejor forma. inicialmente voy a dejar una columna con la fecha y la hora para borrar la columnas que contienen esta información"
   ]
  },
  {
   "cell_type": "code",
   "execution_count": 408,
   "metadata": {},
   "outputs": [],
   "source": [
    "# Borro columna HH que ya esta en hora\n",
    "\n",
    "df_hechos = df_hechos.drop(columns=['HH'])\n"
   ]
  },
  {
   "cell_type": "code",
   "execution_count": null,
   "metadata": {},
   "outputs": [],
   "source": [
    "df_hechos.info()"
   ]
  },
  {
   "cell_type": "code",
   "execution_count": 410,
   "metadata": {},
   "outputs": [
    {
     "data": {
      "text/plain": [
       "13920"
      ]
     },
     "execution_count": 410,
     "metadata": {},
     "output_type": "execute_result"
    }
   ],
   "source": [
    "df_hechos.size\n",
    "# es corto"
   ]
  },
  {
   "cell_type": "code",
   "execution_count": 225,
   "metadata": {},
   "outputs": [],
   "source": [
    "# De entrada borro na\n",
    "# df_hechos.dropna()\n",
    "# No puedo borrar los na por que me borra todo, debe haber una columna que tiene en todas las casillas ne"
   ]
  },
  {
   "cell_type": "code",
   "execution_count": 411,
   "metadata": {},
   "outputs": [],
   "source": [
    "# Borro duplicados que si puedo borrar\n",
    "\n",
    "df_hechos = df_hechos.drop_duplicates()"
   ]
  },
  {
   "cell_type": "code",
   "execution_count": 412,
   "metadata": {},
   "outputs": [
    {
     "data": {
      "text/plain": [
       "13920"
      ]
     },
     "execution_count": 412,
     "metadata": {},
     "output_type": "execute_result"
    }
   ],
   "source": [
    "df_hechos.size\n",
    "# No hay duplicados pero no sobra"
   ]
  },
  {
   "cell_type": "code",
   "execution_count": 413,
   "metadata": {},
   "outputs": [],
   "source": [
    "# Me aseguro que toda la columna de fecha tenga el mismo formato YY-MM-DD \n",
    "\n",
    "df_hechos['FECHA'] = pd.to_datetime(df_hechos['FECHA'], format='%Y-%m-%d')\n"
   ]
  },
  {
   "cell_type": "code",
   "execution_count": null,
   "metadata": {},
   "outputs": [],
   "source": [
    "df_hechos.info()"
   ]
  },
  {
   "cell_type": "code",
   "execution_count": 415,
   "metadata": {},
   "outputs": [],
   "source": [
    "# Dado que esa columna ya tiene la info de toda la fecha borro columnas de año, mes y dia\n",
    "\n",
    "columnas_borrar = ['AAAA', 'MM', 'DD']\n",
    "\n",
    "df_hechos = df_hechos.drop(columns = columnas_borrar, axis=1)\n"
   ]
  },
  {
   "cell_type": "code",
   "execution_count": null,
   "metadata": {},
   "outputs": [],
   "source": [
    "df_hechos.info()"
   ]
  },
  {
   "cell_type": "markdown",
   "metadata": {},
   "source": [
    "Ya me ocupe de la hora, ahora revisaré todas las columnas de uicación"
   ]
  },
  {
   "cell_type": "code",
   "execution_count": 157,
   "metadata": {},
   "outputs": [],
   "source": [
    "# Averiguando en Chatgpt veo la función para devolver la dirección con las coordenadas\n",
    "# para eso tomo una fila y hago el ejemplo"
   ]
  },
  {
   "cell_type": "code",
   "execution_count": 417,
   "metadata": {},
   "outputs": [],
   "source": [
    "def obtener_direccion(COORDENADAS):\n",
    "    latitud, longitud = COORDENADAS\n",
    "    geolocalizador = Nominatim(user_agent=\"mi_aplicacion\")\n",
    "    ubicacion = geolocalizador.reverse(COORDENADAS, language='es')\n",
    "    return ubicacion.address"
   ]
  },
  {
   "cell_type": "code",
   "execution_count": 418,
   "metadata": {},
   "outputs": [],
   "source": [
    "# tomo ejemplo de Coordenadas geográficas, suponiendo que posx es latitud y posy altitud\n",
    "LATITUD = -34.68757022\n",
    "LONGITUD = -58.47533969"
   ]
  },
  {
   "cell_type": "code",
   "execution_count": 419,
   "metadata": {},
   "outputs": [
    {
     "name": "stdout",
     "output_type": "stream",
     "text": [
      "Dirección: 6502, Avenida General Francisco Fernández de La Cruz, Villa Riachuelo, Buenos Aires, Distrito del Deporte, Comuna 8, Ciudad Autónoma de Buenos Aires, C1439COV, Argentina\n"
     ]
    }
   ],
   "source": [
    "print(\"Dirección:\", direccion)\n",
    "\n",
    "#Lo hice pero se demora demasiado así que usaré la dirección del df de la consigna"
   ]
  },
  {
   "cell_type": "code",
   "execution_count": 78,
   "metadata": {},
   "outputs": [],
   "source": [
    "# En realidad funcionó!!!, la dirección que me da el sistema es\n",
    "# Dirección: 6502, Avenida General Francisco Fernández de La Cruz, Villa Riachuelo, Buenos Aires, Distrito del Deporte, Comuna 8, Ciudad Autónoma de Buenos Aires, C1439COV, Argentina\n",
    "# Tambien cuadra numer de la comuna"
   ]
  },
  {
   "cell_type": "code",
   "execution_count": 420,
   "metadata": {},
   "outputs": [],
   "source": [
    "# ya sabiendo que si son las coordenadas, Cambio el nombre de las columnas por latitud y longitud, las junto en una que se \n",
    "# llame coordenadas y con esa columna ya tendría toda la información\n",
    "\n",
    "df_hechos = df_hechos.rename(columns={'pos x': 'LONGITUD'})\n",
    "df_hechos = df_hechos.rename(columns={'pos y': 'LATITUD'})\n"
   ]
  },
  {
   "cell_type": "code",
   "execution_count": null,
   "metadata": {},
   "outputs": [],
   "source": [
    "df_hechos.head()"
   ]
  },
  {
   "cell_type": "code",
   "execution_count": 422,
   "metadata": {},
   "outputs": [],
   "source": [
    "# Voy a verificar que en las columnas latitud y longitud no hayan nulos\n",
    "\n",
    "df_hechos = df_hechos.dropna(subset=['LONGITUD'])\n"
   ]
  },
  {
   "cell_type": "code",
   "execution_count": 423,
   "metadata": {},
   "outputs": [],
   "source": [
    "# Voy a verificar que en las columnas latitud y longitud no hayan nulos\n",
    "\n",
    "df_hechos = df_hechos.dropna(subset=['LATITUD'])"
   ]
  },
  {
   "cell_type": "code",
   "execution_count": 424,
   "metadata": {},
   "outputs": [
    {
     "data": {
      "text/plain": [
       "11832"
      ]
     },
     "execution_count": 424,
     "metadata": {},
     "output_type": "execute_result"
    }
   ],
   "source": [
    "df_hechos.size"
   ]
  },
  {
   "cell_type": "code",
   "execution_count": 425,
   "metadata": {},
   "outputs": [],
   "source": [
    "# Me aseguro que longitud y latitud Sean numericos\n",
    "df_hechos['LONGITUD'] = pd.to_numeric(df_hechos['LONGITUD'], errors='coerce')\n",
    "df_hechos['LATITUD'] = pd.to_numeric(df_hechos['LATITUD'], errors='coerce')\n"
   ]
  },
  {
   "cell_type": "code",
   "execution_count": 426,
   "metadata": {},
   "outputs": [
    {
     "data": {
      "text/plain": [
       "11832"
      ]
     },
     "execution_count": 426,
     "metadata": {},
     "output_type": "execute_result"
    }
   ],
   "source": [
    "df_hechos.size"
   ]
  },
  {
   "cell_type": "code",
   "execution_count": 427,
   "metadata": {},
   "outputs": [],
   "source": [
    "# Junto las 2 columnas en una que se llame COORDENADAS, por que la función que encontré solo tiene un argumento\n",
    "\n",
    "df_hechos['COORDENADAS'] = df_hechos.apply(lambda row: (row['LONGITUD'], row['LATITUD']), axis=1)\n",
    "\n"
   ]
  },
  {
   "cell_type": "code",
   "execution_count": null,
   "metadata": {},
   "outputs": [],
   "source": [
    "df_hechos.info()"
   ]
  },
  {
   "cell_type": "code",
   "execution_count": null,
   "metadata": {},
   "outputs": [],
   "source": [
    "df_hechos.head()"
   ]
  },
  {
   "cell_type": "code",
   "execution_count": 430,
   "metadata": {},
   "outputs": [],
   "source": [
    "# con la columna coordenadas tengo toda la descripción de la ubicación, es importante comuna, \n",
    "# Me aseguro que las columnas altitud y latitud sean numericas\n",
    "\n",
    "df_hechos['ALTITUD'] = df_hechos['LATITUD'].apply(pd.to_numeric, errors='coerce')\n",
    "\n",
    "df_hechos['LONGITUD'] = df_hechos['LONGITUD'].apply(pd.to_numeric, errors='coerce')\n"
   ]
  },
  {
   "cell_type": "code",
   "execution_count": null,
   "metadata": {},
   "outputs": [],
   "source": [
    "df_hechos.head()"
   ]
  },
  {
   "cell_type": "code",
   "execution_count": 431,
   "metadata": {},
   "outputs": [],
   "source": [
    "# Con las coordenada ya tengo toda la info y puedo graficar en powebi asi que borro las que no interesan tanto\n",
    "\n",
    "Columnas_borrar = ['TIPO_DE_CALLE', 'Calle', 'Altura',  'XY (CABA)', 'LONGITUD', 'ALTITUD',\t'LUGAR_DEL_HECHO', 'LATITUD', 'PARTICIPANTES']\n"
   ]
  },
  {
   "cell_type": "code",
   "execution_count": 432,
   "metadata": {},
   "outputs": [],
   "source": [
    "df_hechos =  df_hechos.drop(Columnas_borrar, axis=1)\n"
   ]
  },
  {
   "cell_type": "code",
   "execution_count": null,
   "metadata": {},
   "outputs": [],
   "source": [
    "df_hechos.info()"
   ]
  },
  {
   "cell_type": "code",
   "execution_count": 438,
   "metadata": {},
   "outputs": [],
   "source": [
    "# Voy a renombrar Cruce y Dirección Normalizada por que todo esta en mayusculas asi que no se ve bien\n",
    "\n",
    "df_hechos = df_hechos.rename(columns={'Cruce': 'CRUCE'})\n",
    "df_hechos = df_hechos.rename(columns={'Dirección Normalizada': 'DIRECCION'})\n"
   ]
  },
  {
   "cell_type": "code",
   "execution_count": null,
   "metadata": {},
   "outputs": [],
   "source": [
    "df_hechos.info()"
   ]
  },
  {
   "cell_type": "code",
   "execution_count": null,
   "metadata": {},
   "outputs": [],
   "source": [
    "df_hechos.head()"
   ]
  },
  {
   "cell_type": "code",
   "execution_count": null,
   "metadata": {},
   "outputs": [],
   "source": [
    "# Pienso que con esta info es suficiente para la primera parte pero ahora toca limpiar\n",
    "# la info dado que yo nunca borre na porque borraba toda la info\n"
   ]
  },
  {
   "cell_type": "code",
   "execution_count": 442,
   "metadata": {},
   "outputs": [],
   "source": [
    "df_hechos.to_parquet('df_hechos.parquet')\n"
   ]
  }
 ],
 "metadata": {
  "kernelspec": {
   "display_name": "Python 3",
   "language": "python",
   "name": "python3"
  },
  "language_info": {
   "codemirror_mode": {
    "name": "ipython",
    "version": 3
   },
   "file_extension": ".py",
   "mimetype": "text/x-python",
   "name": "python",
   "nbconvert_exporter": "python",
   "pygments_lexer": "ipython3",
   "version": "3.12.1"
  }
 },
 "nbformat": 4,
 "nbformat_minor": 2
}
