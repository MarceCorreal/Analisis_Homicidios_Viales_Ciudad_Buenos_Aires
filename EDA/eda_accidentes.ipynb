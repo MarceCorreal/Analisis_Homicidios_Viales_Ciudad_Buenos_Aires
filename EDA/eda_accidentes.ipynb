{
 "cells": [
  {
   "cell_type": "markdown",
   "metadata": {},
   "source": [
    "El objetivo principal es proporcionar una visión comprehensiva de los incidentes, identificando tendencias, relaciones y posibles áreas de intervención para mejorar la seguridad vial en Buenos Aires de donde es toda la información."
   ]
  },
  {
   "cell_type": "code",
   "execution_count": null,
   "metadata": {},
   "outputs": [],
   "source": [
    "pip install matplotlib"
   ]
  },
  {
   "cell_type": "code",
   "execution_count": null,
   "metadata": {},
   "outputs": [],
   "source": [
    "pip install seaborn"
   ]
  },
  {
   "cell_type": "code",
   "execution_count": null,
   "metadata": {},
   "outputs": [],
   "source": [
    "pip install folium"
   ]
  },
  {
   "cell_type": "code",
   "execution_count": null,
   "metadata": {},
   "outputs": [],
   "source": [
    "pip install plotly"
   ]
  },
  {
   "cell_type": "code",
   "execution_count": null,
   "metadata": {},
   "outputs": [],
   "source": [
    "pip install --upgrade nbformat"
   ]
  },
  {
   "cell_type": "code",
   "execution_count": null,
   "metadata": {},
   "outputs": [],
   "source": [
    "#También me lo pidió instalar el sistema para hacer mapa de calor\n",
    "!pip install --upgrade nbformat\n",
    "\n"
   ]
  },
  {
   "cell_type": "code",
   "execution_count": 1,
   "metadata": {},
   "outputs": [],
   "source": [
    "# NumPy para soporte de arrays y matrices\n",
    "import numpy as np\n",
    "# Pandas para manipulación y análisis de datos\n",
    "import pandas as pd\n",
    "# Datetime y time para trabajar con objetos de fecha y hora\n",
    "from datetime import datetime, time\n",
    "# Matplotlib.pyplot para la creación de gráficos estáticos, animados e interactivos\n",
    "import matplotlib.pyplot as plt\n",
    "# Seaborn, una biblioteca de visualización de datos basada en matplotlib, para hacer gráficos más atractivos\n",
    "import seaborn as sns\n",
    "# Calendar, que proporciona funciones relacionadas con la visualización y manipulación de calendarios y fechas.\n",
    "import calendar\n",
    "# Importa el módulo cm de matplotlib, que es parte de la biblioteca de visualización matplotlib.\n",
    "import matplotlib.cm as cm\n",
    "# Importa la biblioteca folium para la creación de mapas interactivos y su plugin HeatMap para visualizaciones de densidad.\n",
    "import folium\n",
    "from folium.plugins import HeatMap\n",
    "# Activa la extensión autoreload para recargar módulos automáticamente antes de ejecutar el código\n",
    "%load_ext autoreload\n",
    "# Configura autoreload para que recargue módulos cada vez que se ejecuta una celda\n",
    "%autoreload 2\n",
    "# Importar la biblioteca warnings para controlar las advertencias\n",
    "import warnings\n",
    "# Ignora todas las advertencias generadas para mantener limpia la salida del notebook\n",
    "warnings.filterwarnings(\"ignore\")\n",
    "# Me pide instalarlo al hacer el mapa de calor para visualizar en python\n",
    "import plotly.express as px\n",
    "\n"
   ]
  },
  {
   "cell_type": "code",
   "execution_count": 6,
   "metadata": {},
   "outputs": [],
   "source": [
    "# Abro el df accidentes que ya esta limpío, pero lo verifico porsiacas\n",
    "\n",
    "df_accidentes = r\"C:\\Users\\Usuario\\Henry\\PI2_DA\\ETLS y DFs\\df_accidentes.parquet\"\n"
   ]
  },
  {
   "cell_type": "code",
   "execution_count": 7,
   "metadata": {},
   "outputs": [],
   "source": [
    "df_accidentes = pd.read_parquet(df_accidentes)\n"
   ]
  },
  {
   "cell_type": "code",
   "execution_count": null,
   "metadata": {},
   "outputs": [],
   "source": [
    "df_accidentes"
   ]
  },
  {
   "cell_type": "code",
   "execution_count": 9,
   "metadata": {},
   "outputs": [],
   "source": [
    "# Utilizo la función para verificar datos\n",
    "def verificar_tipo_datos(df):\n",
    "# Genero Diccionario vació para almacenar información sobre cada columna\n",
    "    mi_dict = {\"nombre_campo\": [], \"tipo_datos\": [], \"no_nulos_%\": [], \"nulos_%\": [], \"nulos\": []}\n",
    "    \n",
    "# Iterar sobre  las columnas del DataFrame df\n",
    "    for columna in df.columns:\n",
    "        # Calcular el porcentaje de valores no nulos en la columna actual\n",
    "        porcentaje_no_nulos = (df[columna].count() / len(df)) * 100\n",
    "        \n",
    "# Agregar información de mi_dict\n",
    "        mi_dict[\"nombre_campo\"].append(columna)\n",
    "        mi_dict[\"tipo_datos\"].append(df[columna].apply(type).unique())\n",
    "        mi_dict[\"no_nulos_%\"].append(round(porcentaje_no_nulos, 2))\n",
    "        mi_dict[\"nulos_%\"].append(round(100 - porcentaje_no_nulos, 2))\n",
    "        mi_dict[\"nulos\"].append(df[columna].isnull().sum())\n",
    "        \n",
    "# Crear un DataFrame con la información recopilada\n",
    "    df_info = pd.DataFrame(mi_dict)\n",
    "    \n",
    "# Calcular el total de valores nulos en el DataFrame\n",
    "    total_nulos = df.isnull().sum().sum()\n",
    "    \n",
    "# Imprimir el total de valores nulos\n",
    "    print(f'Total de valores nulos en el DataFrame: {total_nulos}')\n",
    "    \n",
    "# Mostrar las columnas con valores nulos y sus respectivos porcentajes (ordenadas de mayor a menor)\n",
    "    columnas_con_nulos = df_info[df_info[\"nulos\"] > 0][[\"nombre_campo\", \"nulos_%\"]].sort_values(by=\"nulos_%\", ascending=False)\n",
    "    if not columnas_con_nulos.empty:\n",
    "        print(\"\\nColumnas con valores nulos y sus porcentajes:\")\n",
    "        print(columnas_con_nulos)\n",
    "        \n",
    "# Devolver el DataFrame con la información de cada columna\n",
    "\n",
    "    return df_info"
   ]
  },
  {
   "cell_type": "code",
   "execution_count": null,
   "metadata": {},
   "outputs": [],
   "source": [
    "verificar_tipo_datos(df_accidentes)"
   ]
  },
  {
   "cell_type": "code",
   "execution_count": null,
   "metadata": {},
   "outputs": [],
   "source": [
    "# Listo. verifico que esta limpia igual veo la info"
   ]
  },
  {
   "cell_type": "code",
   "execution_count": null,
   "metadata": {},
   "outputs": [],
   "source": [
    "df_accidentes.info()"
   ]
  },
  {
   "cell_type": "code",
   "execution_count": 11,
   "metadata": {},
   "outputs": [],
   "source": [
    "# Cambio nombre victima_x por victima\n",
    "\n",
    "df_accidentes = df_accidentes.rename(columns={'VICTIMA_x': 'VICTIMA'})\n",
    "                    "
   ]
  },
  {
   "cell_type": "code",
   "execution_count": null,
   "metadata": {},
   "outputs": [],
   "source": [
    "df_accidentes.head()"
   ]
  },
  {
   "cell_type": "code",
   "execution_count": 19,
   "metadata": {},
   "outputs": [],
   "source": [
    "# Hago una nueva columna año  para que quede bonito\n",
    "\n",
    "df_accidentes['AÑO_HECHO'] = df_accidentes['FECHA_HECHO'].dt.year"
   ]
  },
  {
   "cell_type": "code",
   "execution_count": 20,
   "metadata": {},
   "outputs": [],
   "source": [
    "df_accidentes = df_accidentes.rename ( columns={'ROL': 'ROL_VICTIMA'})\n"
   ]
  },
  {
   "cell_type": "code",
   "execution_count": null,
   "metadata": {},
   "outputs": [],
   "source": [
    "df_accidentes.head()"
   ]
  },
  {
   "cell_type": "code",
   "execution_count": 25,
   "metadata": {},
   "outputs": [
    {
     "data": {
      "text/plain": [
       "' Distibución Anual de Hechos'"
      ]
     },
     "execution_count": 25,
     "metadata": {},
     "output_type": "execute_result"
    }
   ],
   "source": [
    "''' Distibución Anual de Hechos'''\n",
    "# Para entender la info de año grafico\n"
   ]
  },
  {
   "cell_type": "code",
   "execution_count": 30,
   "metadata": {},
   "outputs": [
    {
     "data": {
      "image/png": "[encoded data removed]",
      "text/plain": [
       "<Figure size 800x600 with 1 Axes>"
      ]
     },
     "metadata": {},
     "output_type": "display_data"
    }
   ],
   "source": [
    "\n",
    "# Configura el tamaño de la figura para el gráfico\n",
    "plt.figure(figsize=(8, 6))\n",
    "\n",
    "# Crea un gráfico de barras con la cantidad de victimas por año, utilizando la paleta de colores 'viridis'\n",
    "ax = sns.countplot(x=df_accidentes['AÑO_HECHO'], palette='winter')\n",
    "\n",
    "# Establece el título del gráfico\n",
    "plt.title('Distribución Anual de Hechos')\n",
    "\n",
    "# Establece la etiqueta del eje X\n",
    "plt.xlabel('AÑO_HECHO')\n",
    "\n",
    "# Establece la etiqueta del eje Y\n",
    "plt.ylabel('Cantidad de Hechos')\n",
    "\n",
    "# Itera sobre las barras del gráfico para agregar la cantidad de accidentes sobre cada barra\n",
    "for p in ax.patches:\n",
    "    # Anota el valor de la altura de la barra (cantidad de accidentes) sobre ella\n",
    "    ax.annotate(f'{int(p.get_height())}', (p.get_x() + p.get_width() / 2., p.get_height()),\n",
    "                ha='center', va='center', xytext=(0, 7), textcoords='offset points', fontsize=7)  # Ajusta el tamaño del texto aquí\n",
    "\n",
    "# Muestra el gráfico\n",
    "plt.show()"
   ]
  },
  {
   "cell_type": "code",
   "execution_count": null,
   "metadata": {},
   "outputs": [],
   "source": [
    "''' Distribución Mensual de Hechos '''"
   ]
  },
  {
   "cell_type": "code",
   "execution_count": 40,
   "metadata": {},
   "outputs": [],
   "source": [
    "# Se puede ver que en el año 2020 hubo uno reducción significativa de hechos lo cual me lleva \n",
    "# a concluir que los datos trabajan bien por que coincide con la pandema\n",
    "# Pasada la pandemia aumento pero un poco menor que antes de la pandemia"
   ]
  },
  {
   "cell_type": "code",
   "execution_count": 31,
   "metadata": {},
   "outputs": [],
   "source": [
    "# Hago una nueva columna mes que despues borro para que quede bonito\n",
    "\n",
    "df_accidentes['MES_HECHO'] = df_accidentes['FECHA_HECHO'].dt.month"
   ]
  },
  {
   "cell_type": "code",
   "execution_count": 32,
   "metadata": {},
   "outputs": [
    {
     "data": {
      "image/png": "[encoded data removed]",
      "text/plain": [
       "<Figure size 1200x600 with 1 Axes>"
      ]
     },
     "metadata": {},
     "output_type": "display_data"
    }
   ],
   "source": [
    "\n",
    "# Define un diccionario que asocia cada número de mes con su nombre correspondiente en español\n",
    "meses = {1: 'Enero', 2: 'Febrero', 3: 'Marzo', 4: 'Abril', 5: 'Mayo', 6: 'Junio',\n",
    "         7: 'Julio', 8: 'Agosto', 9: 'Septiembre', 10: 'Octubre', 11: 'Noviembre', 12: 'Diciembre'}\n",
    "\n",
    "# Usa el diccionario 'meses' para convertir los números de mes en nombres en la columna 'MeMED_HECHO' del DataFrame 'df_homicidios'\n",
    "df_accidentes['MES_HECHO'] = df_accidentes['MES_HECHO'].map(meses)\n",
    "\n",
    "# Establece el tamaño de la figura del gráfico a 12x6 pulgadas\n",
    "plt.figure(figsize=(12, 6))\n",
    "\n",
    "# Crea un gráfico de barras que cuenta la cantidad de registros por cada mes, usando la paleta de colores 'viridis'\n",
    "ax = sns.countplot(x=df_accidentes['MES_HECHO'], palette='winter')\n",
    "\n",
    "# Rota las etiquetas del eje x en un ángulo de 45 grados para mejorar la legibilidad y alinea a la derecha\n",
    "ax.set_xticklabels(ax.get_xticklabels(), rotation=45, ha=\"right\")\n",
    "\n",
    "# Itera sobre las barras del gráfico para colocar una anotación con el total de registros encima de cada barra\n",
    "for p in ax.patches:\n",
    "    # Coloca una etiqueta con el número total de registros encima de cada barra, ajustando la posición y el tamaño del texto\n",
    "    ax.annotate(f'{int(p.get_height())}', (p.get_x() + p.get_width() / 2., p.get_height()),\n",
    "                ha='center', va='center', xytext=(0, 10), textcoords='offset points', fontsize=7)\n",
    "\n",
    "# Asigna un título al gráfico, indicando que muestra la distribución mensual de accidentes\n",
    "plt.title('Distribución Mensual de Hechos')\n",
    "\n",
    "# Etiqueta el eje x como 'Mes'\n",
    "plt.xlabel('Mes Hecho')\n",
    "\n",
    "# Etiqueta el eje y como 'Cantidad de Accidentes'\n",
    "plt.ylabel('Cantidad de Hechos')\n",
    "\n",
    "# Muestra el gráfico\n",
    "plt.show()\n",
    "\n"
   ]
  },
  {
   "cell_type": "markdown",
   "metadata": {},
   "source": [
    "Estudiando la distribución anual de todos los datos disponibles, se evidencia que hay una tendencia de aumento en los accidentes durante el año, alcanzando su punto máximo en diciembre. Los meses de diciembre, noviembre y agosto son los que registran mayor número de accidentes fatales, mientras que julio y septiembre presentan la menor cantidad de estos incidentes.\n",
    "\n",
    "Para analizar mas profundo año por año la distribución de accidentes vamos a verlo año por año como es la tendencia, volviendo a ver como se aplana en el 2020 por la pandemia como mencionabamos anteriormente."
   ]
  },
  {
   "cell_type": "code",
   "execution_count": null,
   "metadata": {},
   "outputs": [],
   "source": [
    "''' Tendencia Hechos Mensal a travez de los Años'''"
   ]
  },
  {
   "cell_type": "code",
   "execution_count": 33,
   "metadata": {},
   "outputs": [
    {
     "data": {
      "image/png": "[encoded data removed]",
      "text/plain": [
       "<Figure size 1500x1000 with 6 Axes>"
      ]
     },
     "metadata": {},
     "output_type": "display_data"
    }
   ],
   "source": [
    "\n",
    "# Convertir la columna 'Fecha' a tipo datetime\n",
    "df_accidentes['FECHA_HECHO'] = pd.to_datetime(df_accidentes['FECHA_HECHO'])\n",
    "\n",
    "# Crear columnas de 'Año' y 'Mes' como enteros\n",
    "df_accidentes['AÑO_HECHO'] = df_accidentes['FECHA_HECHO'].dt.year\n",
    "df_accidentes['MES_HECHO'] = df_accidentes['FECHA_HECHO'].dt.month\n",
    "\n",
    "# Configurar el estilo de seaborn para usar los colores de viridis\n",
    "sns.set_palette(\"viridis\", n_colors=12)\n",
    "\n",
    "# Obtener los años únicos presentes en la columna 'Año'\n",
    "unique_years = df_accidentes['AÑO_HECHO'].unique()\n",
    "\n",
    "# Crear subgráficos en una matriz de 3x2\n",
    "fig, axes = plt.subplots(nrows=3, ncols=2, figsize=(15, 10))\n",
    "\n",
    "# Iterar sobre cada año\n",
    "for i, year in enumerate(unique_years):\n",
    "    # Calcular la posición en la matriz\n",
    "    row = i // 2\n",
    "    col = i % 2\n",
    "\n",
    "    # Filtrar el DataFrame para el año actual\n",
    "    df_year = df_accidentes[df_accidentes['AÑO_HECHO'] == year]\n",
    "\n",
    "    # Contar los homicidios por mes\n",
    "    count_by_month = df_year.groupby('MES_HECHO').size()\n",
    "\n",
    "    # Crear el gráfico de líneas\n",
    "    sns.lineplot(x=count_by_month.index.map(lambda x: calendar.month_name[x]), y=count_by_month.values, ax=axes[row, col], label=str(year))\n",
    "\n",
    "    # Configurar etiquetas y título\n",
    "    axes[row, col].set_title(f'Hechos por Mes - Año {year}')\n",
    "    axes[row, col].set_ylabel('Cantidad de Hechos')\n",
    "\n",
    "    # Rotar las etiquetas de los meses a 45 grados\n",
    "    axes[row, col].tick_params(axis='x', rotation=45)\n",
    "\n",
    "# Configurar etiquetas en el eje x para el último subgráfico\n",
    "axes[-1, 0].set_xlabel('Mes')\n",
    "axes[-1, 1].set_xlabel('Mes')\n",
    "\n",
    "# Ajustar el diseño y mostrar el gráfico\n",
    "plt.tight_layout()\n",
    "plt.show()"
   ]
  },
  {
   "cell_type": "code",
   "execution_count": null,
   "metadata": {},
   "outputs": [],
   "source": [
    "# Se evidencia que en el unico año que hubo decrecimiento en el mes de diciembre fué el 2019 que empata  con el \n",
    "# inicio de la pandema lo me lleva a concluir que definitivamente diciembre es un mes importnte para \n",
    "# Ejecutar los programas de prevención de accidentes de tránsito"
   ]
  },
  {
   "cell_type": "code",
   "execution_count": 17,
   "metadata": {},
   "outputs": [
    {
     "data": {
      "text/plain": [
       "' Distribcución Semanal de Hechos'"
      ]
     },
     "execution_count": 17,
     "metadata": {},
     "output_type": "execute_result"
    }
   ],
   "source": [
    "''' Distribcución Semanal de Hechos'''"
   ]
  },
  {
   "cell_type": "code",
   "execution_count": 35,
   "metadata": {},
   "outputs": [
    {
     "data": {
      "image/png": "[encoded data removed]",
      "text/plain": [
       "<Figure size 900x600 with 1 Axes>"
      ]
     },
     "metadata": {},
     "output_type": "display_data"
    }
   ],
   "source": [
    "\n",
    "# Extraigo de la fecha el día de la semana\n",
    "df_accidentes['DIA_SEMANA'] = df_accidentes['FECHA_HECHO'].dt.day_name()\n",
    "\n",
    "# Mapear los días de la semana del inglés al español\n",
    "dias_en_espanol = {\n",
    "    'Monday': 'Lunes',\n",
    "    'Tuesday': 'Martes',\n",
    "    'Wednesday': 'Miércoles',\n",
    "    'Thursday': 'Jueves',\n",
    "    'Friday': 'Viernes',\n",
    "    'Saturday': 'Sábado',\n",
    "    'Sunday': 'Domingo'\n",
    "}\n",
    "df_accidentes['DIA_SEMANA'] = df_accidentes['DIA_SEMANA'].map(dias_en_espanol)\n",
    "\n",
    "# Cuento los hechos por día de la semana\n",
    "dias_semana_counts = df_accidentes['DIA_SEMANA'].value_counts()[list(dias_en_espanol.values())]\n",
    "\n",
    "# Crear el gráfico\n",
    "plt.figure(figsize=(9, 6))\n",
    "ax = sns.barplot(x=dias_semana_counts.index, y=dias_semana_counts.values, palette='winter',width=0.5)\n",
    "plt.title('Distribución de Hechos por Días de la Semana')\n",
    "plt.xlabel('Día de la Semana')\n",
    "plt.ylabel('Número de Homicidios')\n",
    "ax.set_xticklabels(ax.get_xticklabels(), rotation=45, ha='right')\n",
    "\n",
    "# Agregar el total en las barras\n",
    "for p in ax.patches:\n",
    "    ax.annotate(f'{int(p.get_height())}', (p.get_x() + p.get_width() / 2., p.get_height()),\n",
    "                ha='center', va='center', xytext=(0, 10), textcoords='offset points', fontsize=7)\n",
    "\n",
    "plt.tight_layout()\n",
    "plt.show()\n"
   ]
  },
  {
   "cell_type": "markdown",
   "metadata": {},
   "source": [
    "De este grafico puedo conclluir que no es notorio el impacto de los días de la semana en la cantidad de hechoa pues las diferencias en los numeros de hechos son mínimas. "
   ]
  },
  {
   "cell_type": "code",
   "execution_count": null,
   "metadata": {},
   "outputs": [],
   "source": [
    "El sabado es el día de mayor cantidad de hechos de la semana, seguido por el lunes, \n",
    "sinembargo no hay diferencias muy dicientes entre los Hechos los diferentes días de la semana"
   ]
  },
  {
   "cell_type": "code",
   "execution_count": null,
   "metadata": {},
   "outputs": [],
   "source": [
    "df_accidentes.head()"
   ]
  },
  {
   "cell_type": "code",
   "execution_count": null,
   "metadata": {},
   "outputs": [],
   "source": [
    "'''Distribución Geográfica de los Hechos'''"
   ]
  },
  {
   "cell_type": "code",
   "execution_count": 18,
   "metadata": {},
   "outputs": [
    {
     "data": {
      "text/html": [
       "<div>\n",
       "<style scoped>\n",
       "    .dataframe tbody tr th:only-of-type {\n",
       "        vertical-align: middle;\n",
       "    }\n",
       "\n",
       "    .dataframe tbody tr th {\n",
       "        vertical-align: top;\n",
       "    }\n",
       "\n",
       "    .dataframe thead th {\n",
       "        text-align: right;\n",
       "    }\n",
       "</style>\n",
       "<table border=\"1\" class=\"dataframe\">\n",
       "  <thead>\n",
       "    <tr style=\"text-align: right;\">\n",
       "      <th></th>\n",
       "      <th>ID_HECHO</th>\n",
       "      <th>No_VICTIMAS</th>\n",
       "      <th>FECHA_HECHO</th>\n",
       "      <th>HORA_HECHO</th>\n",
       "      <th>DIRECCION</th>\n",
       "      <th>COMUNA</th>\n",
       "      <th>VICTIMA</th>\n",
       "      <th>ACUSADO</th>\n",
       "      <th>COORDENADAS</th>\n",
       "      <th>ROL_VICTIMA</th>\n",
       "      <th>SEXO_VICTIMA</th>\n",
       "      <th>EDAD_VICTIMA</th>\n",
       "      <th>FECHA_FALLECIMIENTO</th>\n",
       "      <th>AÑO_HECHO</th>\n",
       "      <th>MES_HECHO</th>\n",
       "      <th>DIA_SEMANA</th>\n",
       "    </tr>\n",
       "  </thead>\n",
       "  <tbody>\n",
       "    <tr>\n",
       "      <th>0</th>\n",
       "      <td>2016-0001</td>\n",
       "      <td>1</td>\n",
       "      <td>2016-01-01</td>\n",
       "      <td>0 days 04:00:00</td>\n",
       "      <td>PIEDRA BUENA AV. y FERNANDEZ DE LA CRUZ, F., G...</td>\n",
       "      <td>8</td>\n",
       "      <td>MOTO</td>\n",
       "      <td>AUTO</td>\n",
       "      <td>[-58.47533969, -34.68757022]</td>\n",
       "      <td>CONDUCTOR</td>\n",
       "      <td>MASCULINO</td>\n",
       "      <td>19</td>\n",
       "      <td>2016-01-01 00:00:00</td>\n",
       "      <td>2016</td>\n",
       "      <td>1</td>\n",
       "      <td>Viernes</td>\n",
       "    </tr>\n",
       "    <tr>\n",
       "      <th>1</th>\n",
       "      <td>2016-0002</td>\n",
       "      <td>1</td>\n",
       "      <td>2016-01-02</td>\n",
       "      <td>0 days 01:15:00</td>\n",
       "      <td>PAZ, GRAL. AV. y DE LOS CORRALES AV.</td>\n",
       "      <td>9</td>\n",
       "      <td>AUTO</td>\n",
       "      <td>PASAJEROS</td>\n",
       "      <td>[-58.50877521, -34.66977709]</td>\n",
       "      <td>CONDUCTOR</td>\n",
       "      <td>MASCULINO</td>\n",
       "      <td>70</td>\n",
       "      <td>2016-01-02 00:00:00</td>\n",
       "      <td>2016</td>\n",
       "      <td>1</td>\n",
       "      <td>Sábado</td>\n",
       "    </tr>\n",
       "    <tr>\n",
       "      <th>2</th>\n",
       "      <td>2016-0003</td>\n",
       "      <td>1</td>\n",
       "      <td>2016-01-03</td>\n",
       "      <td>0 days 07:00:00</td>\n",
       "      <td>ENTRE RIOS AV. 2034</td>\n",
       "      <td>1</td>\n",
       "      <td>MOTO</td>\n",
       "      <td>AUTO</td>\n",
       "      <td>[-58.39040293, -34.63189362]</td>\n",
       "      <td>CONDUCTOR</td>\n",
       "      <td>MASCULINO</td>\n",
       "      <td>30</td>\n",
       "      <td>2016-01-03 00:00:00</td>\n",
       "      <td>2016</td>\n",
       "      <td>1</td>\n",
       "      <td>Domingo</td>\n",
       "    </tr>\n",
       "    <tr>\n",
       "      <th>3</th>\n",
       "      <td>2016-0004</td>\n",
       "      <td>1</td>\n",
       "      <td>2016-01-10</td>\n",
       "      <td>0 days 00:00:00</td>\n",
       "      <td>LARRAZABAL AV. y VILLEGAS, CONRADO, GRAL.</td>\n",
       "      <td>8</td>\n",
       "      <td>MOTO</td>\n",
       "      <td>SD</td>\n",
       "      <td>[-58.46503904, -34.68092974]</td>\n",
       "      <td>CONDUCTOR</td>\n",
       "      <td>MASCULINO</td>\n",
       "      <td>18</td>\n",
       "      <td>SD</td>\n",
       "      <td>2016</td>\n",
       "      <td>1</td>\n",
       "      <td>Domingo</td>\n",
       "    </tr>\n",
       "    <tr>\n",
       "      <th>4</th>\n",
       "      <td>2016-0005</td>\n",
       "      <td>1</td>\n",
       "      <td>2016-01-21</td>\n",
       "      <td>0 days 05:20:00</td>\n",
       "      <td>SAN JUAN AV. y SAENZ PEÃ‘A, LUIS, PRES.</td>\n",
       "      <td>1</td>\n",
       "      <td>MOTO</td>\n",
       "      <td>PASAJEROS</td>\n",
       "      <td>[-58.38718297, -34.62246630]</td>\n",
       "      <td>CONDUCTOR</td>\n",
       "      <td>MASCULINO</td>\n",
       "      <td>29</td>\n",
       "      <td>2016-02-01 00:00:00</td>\n",
       "      <td>2016</td>\n",
       "      <td>1</td>\n",
       "      <td>Jueves</td>\n",
       "    </tr>\n",
       "  </tbody>\n",
       "</table>\n",
       "</div>"
      ],
      "text/plain": [
       "    ID_HECHO  No_VICTIMAS FECHA_HECHO      HORA_HECHO  \\\n",
       "0  2016-0001            1  2016-01-01 0 days 04:00:00   \n",
       "1  2016-0002            1  2016-01-02 0 days 01:15:00   \n",
       "2  2016-0003            1  2016-01-03 0 days 07:00:00   \n",
       "3  2016-0004            1  2016-01-10 0 days 00:00:00   \n",
       "4  2016-0005            1  2016-01-21 0 days 05:20:00   \n",
       "\n",
       "                                           DIRECCION  COMUNA VICTIMA  \\\n",
       "0  PIEDRA BUENA AV. y FERNANDEZ DE LA CRUZ, F., G...       8    MOTO   \n",
       "1               PAZ, GRAL. AV. y DE LOS CORRALES AV.       9    AUTO   \n",
       "2                                ENTRE RIOS AV. 2034       1    MOTO   \n",
       "3          LARRAZABAL AV. y VILLEGAS, CONRADO, GRAL.       8    MOTO   \n",
       "4            SAN JUAN AV. y SAENZ PEÃ‘A, LUIS, PRES.       1    MOTO   \n",
       "\n",
       "     ACUSADO                   COORDENADAS ROL_VICTIMA SEXO_VICTIMA  \\\n",
       "0       AUTO  [-58.47533969, -34.68757022]   CONDUCTOR    MASCULINO   \n",
       "1  PASAJEROS  [-58.50877521, -34.66977709]   CONDUCTOR    MASCULINO   \n",
       "2       AUTO  [-58.39040293, -34.63189362]   CONDUCTOR    MASCULINO   \n",
       "3         SD  [-58.46503904, -34.68092974]   CONDUCTOR    MASCULINO   \n",
       "4  PASAJEROS  [-58.38718297, -34.62246630]   CONDUCTOR    MASCULINO   \n",
       "\n",
       "  EDAD_VICTIMA  FECHA_FALLECIMIENTO  AÑO_HECHO  MES_HECHO DIA_SEMANA  \n",
       "0           19  2016-01-01 00:00:00       2016          1    Viernes  \n",
       "1           70  2016-01-02 00:00:00       2016          1     Sábado  \n",
       "2           30  2016-01-03 00:00:00       2016          1    Domingo  \n",
       "3           18                   SD       2016          1    Domingo  \n",
       "4           29  2016-02-01 00:00:00       2016          1     Jueves  "
      ]
     },
     "execution_count": 18,
     "metadata": {},
     "output_type": "execute_result"
    }
   ],
   "source": [
    "df_accidentes.head()"
   ]
  },
  {
   "cell_type": "code",
   "execution_count": null,
   "metadata": {},
   "outputs": [],
   "source": [
    "# Verifica que todas las entradas de la columna 'coordenadas' sean tuplas de longitud 2\n",
    "if all(len(coord) == 2 for coord in df_accidentes['COORDENADAS']):\n",
    "    # Divide la tupla en dos columnas separadas de latitud y longitud\n",
    "    df_accidentes[['LONGITUD', 'LATITUD'] ]= pd.DataFrame(df_accidentes['COORDENADAS'].tolist(), columns=['LONGITUD', 'LATITUD'])\n",
    "else:\n",
    "    print(\"Error: Not all coordinates have length of 2.\")\n",
    "\n",
    "print(df_accidentes)\n",
    "\n",
    "# No entiendo bien por que las coordenadas estan con un solo parentsis pues es una tupla cada registro, \n",
    "# igual lo divide, aunque no lo hubiera juntado desde un principio pero que iba a saber"
   ]
  },
  {
   "cell_type": "code",
   "execution_count": 20,
   "metadata": {},
   "outputs": [],
   "source": [
    "# Como ya la dividi ahora borro coordenadas para volverla a crear a partir de float y no objetos\n",
    "df_accidentes = df_accidentes.drop(columns = 'COORDENADAS')"
   ]
  },
  {
   "cell_type": "code",
   "execution_count": null,
   "metadata": {},
   "outputs": [],
   "source": [
    "df_accidentes.info()"
   ]
  },
  {
   "cell_type": "code",
   "execution_count": null,
   "metadata": {},
   "outputs": [],
   "source": [
    "# Ahora quederon latitud y longitud como objeto tengo que colverlo float"
   ]
  },
  {
   "cell_type": "code",
   "execution_count": 22,
   "metadata": {},
   "outputs": [],
   "source": [
    "df_accidentes = df_accidentes[df_accidentes['LATITUD'] != '.']"
   ]
  },
  {
   "cell_type": "code",
   "execution_count": 23,
   "metadata": {},
   "outputs": [],
   "source": [
    "df_accidentes['LATITUD'] = df_accidentes['LATITUD'].astype(float)"
   ]
  },
  {
   "cell_type": "code",
   "execution_count": null,
   "metadata": {},
   "outputs": [],
   "source": [
    "df_accidentes.info()"
   ]
  },
  {
   "cell_type": "code",
   "execution_count": 25,
   "metadata": {},
   "outputs": [],
   "source": [
    "df_accidentes['LONGITUD'] = df_accidentes['LONGITUD'].astype(float)"
   ]
  },
  {
   "cell_type": "code",
   "execution_count": null,
   "metadata": {},
   "outputs": [],
   "source": [
    "df_accidentes.info()"
   ]
  },
  {
   "cell_type": "code",
   "execution_count": null,
   "metadata": {},
   "outputs": [],
   "source": [
    "# Ahi ya quedaron como float latitud y longitud"
   ]
  },
  {
   "cell_type": "code",
   "execution_count": 27,
   "metadata": {},
   "outputs": [],
   "source": [
    "df_accidentes['COORDENADAS'] = list(zip(df_accidentes['LATITUD'], df_accidentes['LONGITUD']))\n"
   ]
  },
  {
   "cell_type": "code",
   "execution_count": null,
   "metadata": {},
   "outputs": [],
   "source": [
    "df_accidentes.head()"
   ]
  },
  {
   "cell_type": "code",
   "execution_count": 193,
   "metadata": {},
   "outputs": [],
   "source": [
    "# df_accidentes.info()\n",
    "# quedo coordenadas como objeto (,)pero a partir de numero voy a ver si funciona"
   ]
  },
  {
   "cell_type": "code",
   "execution_count": null,
   "metadata": {},
   "outputs": [],
   "source": [
    "# Crear un mapa centrado en Buenos Aires\n",
    "mapa_buenos_aires = folium.Map(location=[-34.6037, -58.3816], zoom_start=12.5)\n",
    "\n",
    "# Agregar marcadores al mapa para cada accidente\n",
    "for index, row in df_accidentes.iterrows():\n",
    "    folium.Marker(location=row['COORDENADAS'], popup=row['ID_HECHO']).add_to(mapa_buenos_aires)\n",
    "\n",
    "# Mostrar el mapa en el cuaderno\n",
    "mapa_buenos_aires"
   ]
  },
  {
   "cell_type": "code",
   "execution_count": null,
   "metadata": {},
   "outputs": [],
   "source": [
    "# WWWOOOOWWWW funciono......no me sirve de muchoh por que lo voy a dibujar mas bonito \n",
    "# en ´PBI pero igual muy chevere\n",
    "\n",
    "# Creo que me serviría mejor un mapa de calor como por comuna.... "
   ]
  },
  {
   "cell_type": "code",
   "execution_count": null,
   "metadata": {},
   "outputs": [],
   "source": [
    "df_accidentes.head()"
   ]
  },
  {
   "cell_type": "code",
   "execution_count": 30,
   "metadata": {},
   "outputs": [],
   "source": [
    "# Crea un mapa centrado en Buenos Aires\n",
    "mapa_buenos_aires = folium.Map(location=[-34.6037, -58.3816], zoom_start=12)\n",
    "\n",
    "# Convierte las coordenadas en una lista de listas\n",
    "coordenadas = df_accidentes[['LATITUD', 'LONGITUD']].values.tolist()\n",
    "\n",
    "# Crea el mapa de calor con las coordenadas\n",
    "HeatMap(coordenadas).add_to(mapa_buenos_aires)\n",
    "\n",
    "# Muestra el mapa\n",
    "mapa_buenos_aires.save(\"mapa_de_calor.html\")\n"
   ]
  },
  {
   "cell_type": "code",
   "execution_count": 31,
   "metadata": {},
   "outputs": [
    {
     "name": "stdout",
     "output_type": "stream",
     "text": [
      "mapa_de_calor.html\n"
     ]
    }
   ],
   "source": [
    "print(\"mapa_de_calor.html\")"
   ]
  },
  {
   "cell_type": "code",
   "execution_count": 86,
   "metadata": {},
   "outputs": [],
   "source": [
    "# Funcionó bonito pero se queda en HTML osea que se visualiza en el navegador, pegaré la imagen en el github\n",
    "# sinembargo sería mejor ver por ejemplo en que comuna hay mas accidentes"
   ]
  },
  {
   "cell_type": "code",
   "execution_count": 32,
   "metadata": {},
   "outputs": [
    {
     "data": {
      "application/vnd.plotly.v1+json": {
       "config": {
        "plotlyServerURL": "https://plot.ly"
       },
       "data": [
        {
         "coloraxis": "coloraxis",
         "hovertemplate": "Frecuencia=%{z}<br>LATITUD=%{lat}<br>LONGITUD=%{lon}<extra></extra>",
         "lat": [
          -34.70524971,
          -34.69843756,
          -34.69640164,
          -34.6937413,
          -34.69156793,
          -34.69153196,
          -34.68795245,
          -34.68757022,
          -34.68550712,
          -34.68482689,
          -34.68475866,
          -34.68454456,
          -34.68385968,
          -34.68359163,
          -34.68251141,
          -34.68192648,
          -34.68148508,
          -34.68095739,
          -34.68092974,
          -34.68049201,
          -34.68010798,
          -34.68003614,
          -34.67981324,
          -34.67926929,
          -34.67892743,
          -34.67732118,
          -34.67665828,
          -34.67648597,
          -34.6751276,
          -34.67494416,
          -34.67450313,
          -34.67323292,
          -34.67316502,
          -34.67233407,
          -34.67216349,
          -34.6719879,
          -34.67152226,
          -34.67051543,
          -34.67006054,
          -34.66977709,
          -34.66902702,
          -34.66874679,
          -34.66777987,
          -34.66684950051973,
          -34.66677111,
          -34.66518343,
          -34.66437532,
          -34.66292532,
          -34.66256502,
          -34.66252488,
          -34.66245085,
          -34.66128115,
          -34.6611974,
          -34.66012327,
          -34.66005171,
          -34.66004784,
          -34.65997463,
          -34.65970435,
          -34.65969965,
          -34.6590353,
          -34.65872088,
          -34.65869968,
          -34.65846419,
          -34.6583909,
          -34.65788529,
          -34.657341,
          -34.65679806,
          -34.65672199,
          -34.65633192,
          -34.65624369,
          -34.65620398,
          -34.65584079,
          -34.65559133,
          -34.65556223,
          -34.65554754,
          -34.65522746,
          -34.65476216,
          -34.65470804,
          -34.65468721,
          -34.65463857,
          -34.65429986,
          -34.6542464,
          -34.65422917,
          -34.6541774,
          -34.65414867,
          -34.65412546,
          -34.65326075,
          -34.65303372,
          -34.65284605,
          -34.65273216,
          -34.65232158,
          -34.65194557,
          -34.65177305,
          -34.65174801,
          -34.65168841,
          -34.65117757,
          -34.6510708,
          -34.65098981,
          -34.65094083,
          -34.65093074,
          -34.65084045,
          -34.65082149,
          -34.65080597,
          -34.65076549,
          -34.65073916,
          -34.6505529,
          -34.65021673,
          -34.65015854,
          -34.65014993,
          -34.65012801,
          -34.6500828,
          -34.64991946,
          -34.64991178,
          -34.64979057,
          -34.64972472,
          -34.64949724,
          -34.64938031,
          -34.64925746,
          -34.64868027,
          -34.64815069,
          -34.64787051,
          -34.64742455,
          -34.64730145,
          -34.64684275,
          -34.64646409,
          -34.64645957,
          -34.64640709,
          -34.64600222,
          -34.64597065,
          -34.64592873,
          -34.64584795,
          -34.64567171,
          -34.64564271,
          -34.64561636,
          -34.64546845,
          -34.64543658,
          -34.64539318,
          -34.64487785,
          -34.64457699,
          -34.64449357,
          -34.64446729,
          -34.64410277,
          -34.64385704,
          -34.64363363,
          -34.64358293,
          -34.64357704,
          -34.64341878,
          -34.64297861,
          -34.64291993,
          -34.64282424,
          -34.64276621,
          -34.64251042,
          -34.64243791,
          -34.6423411,
          -34.64228803,
          -34.64143926,
          -34.64119105,
          -34.64055918,
          -34.64053676,
          -34.64047818,
          -34.64035082,
          -34.64019887,
          -34.6399743,
          -34.63966783,
          -34.63953396,
          -34.63953253,
          -34.63934531,
          -34.63931792,
          -34.63931752,
          -34.63918987,
          -34.63905965,
          -34.63888084,
          -34.63886726,
          -34.63866836,
          -34.63852623,
          -34.63832093,
          -34.63800916,
          -34.63787791,
          -34.6374328,
          -34.63722107,
          -34.63695178,
          -34.63693953,
          -34.63682499,
          -34.63679732,
          -34.63668504,
          -34.63665402,
          -34.63659934,
          -34.63657525428238,
          -34.63652467,
          -34.63638927,
          -34.63637963,
          -34.63635787,
          -34.63628186,
          -34.63627822,
          -34.63601265,
          -34.63593897,
          -34.63572989,
          -34.63551751,
          -34.63531854,
          -34.63524207,
          -34.63504312,
          -34.63491705,
          -34.63455776,
          -34.63420319,
          -34.6341913,
          -34.63412287,
          -34.63395999,
          -34.63382309,
          -34.63376545,
          -34.63356284,
          -34.63350444,
          -34.63348678,
          -34.63343907,
          -34.63330028,
          -34.63217813,
          -34.63215432,
          -34.63206174,
          -34.6319325,
          -34.63189362,
          -34.63174259,
          -34.63168269,
          -34.63150425,
          -34.63132912,
          -34.63107887,
          -34.63105973,
          -34.63099197,
          -34.63089661,
          -34.63070603,
          -34.63063795,
          -34.6305389,
          -34.63038658,
          -34.63036565,
          -34.63035454,
          -34.63023775,
          -34.62981124,
          -34.6297708,
          -34.62973033,
          -34.62960517,
          -34.62955795,
          -34.62953445,
          -34.62941648,
          -34.62933109,
          -34.62932696,
          -34.62930339,
          -34.62930162,
          -34.62925068,
          -34.62919627,
          -34.62913916,
          -34.62907067,
          -34.62902048,
          -34.62884871,
          -34.62873635,
          -34.6284667,
          -34.62841919,
          -34.62828656,
          -34.62801894,
          -34.62794241,
          -34.62786038,
          -34.62783085,
          -34.62772274,
          -34.62771756,
          -34.62770192,
          -34.62764718,
          -34.62764717,
          -34.62763661,
          -34.62743346,
          -34.62742408,
          -34.62728101,
          -34.62726382,
          -34.62704273,
          -34.6269973,
          -34.62694503,
          -34.62693865,
          -34.62656868,
          -34.62622851,
          -34.62571878,
          -34.62561234,
          -34.62556293,
          -34.62539009,
          -34.62519403,
          -34.62513374,
          -34.62499107,
          -34.62477387,
          -34.62477021,
          -34.62465368,
          -34.62454175,
          -34.62453459,
          -34.62447891,
          -34.62438894,
          -34.62367156,
          -34.62356174,
          -34.62352826,
          -34.62352245,
          -34.62330939,
          -34.62301748,
          -34.62297346,
          -34.62288231,
          -34.62284918,
          -34.62282019,
          -34.62260331,
          -34.6224663,
          -34.6224514,
          -34.62214953,
          -34.62207347,
          -34.62200207,
          -34.62163006,
          -34.62150748,
          -34.62147504,
          -34.62140594,
          -34.62126274,
          -34.62125906,
          -34.62113271,
          -34.62085945,
          -34.62082399,
          -34.62073702,
          -34.62049672,
          -34.62038137,
          -34.62036547,
          -34.62025108,
          -34.61984745,
          -34.61971907,
          -34.61964833,
          -34.61953517,
          -34.61945902,
          -34.61943202,
          -34.61895467,
          -34.61883916,
          -34.61866836,
          -34.61866627,
          -34.61853244,
          -34.61829385,
          -34.61823178,
          -34.61807951,
          -34.61799615,
          -34.61790839,
          -34.61783553,
          -34.61781124,
          -34.6177971,
          -34.61765855,
          -34.61765323,
          -34.61740997,
          -34.61687778,
          -34.61648696,
          -34.61646839,
          -34.61632317,
          -34.61600366,
          -34.61565025,
          -34.6156281,
          -34.61544091,
          -34.61529543,
          -34.61520391,
          -34.61516101,
          -34.61512051,
          -34.61477051,
          -34.61474911,
          -34.6146383,
          -34.61413568,
          -34.61381341,
          -34.61349731,
          -34.61303893,
          -34.61265002,
          -34.61253541,
          -34.61232875,
          -34.61223119,
          -34.61207587,
          -34.61196327,
          -34.61185625,
          -34.61164474,
          -34.61134937,
          -34.61113641,
          -34.6111224,
          -34.61100424,
          -34.61099738,
          -34.61098186,
          -34.61079875,
          -34.6107166,
          -34.61068024,
          -34.61047001,
          -34.61028571,
          -34.61011987,
          -34.60975108,
          -34.60937557,
          -34.60927582,
          -34.60922259,
          -34.60919284,
          -34.60907662,
          -34.60906385,
          -34.60885045,
          -34.6088396,
          -34.6082544,
          -34.60793518,
          -34.60776782,
          -34.60774301,
          -34.60727189,
          -34.60724519,
          -34.60653282,
          -34.6064658,
          -34.6060085,
          -34.60588536,
          -34.60582475,
          -34.60557123,
          -34.60536123,
          -34.60509972,
          -34.60463618,
          -34.60456293,
          -34.6044379,
          -34.60443527,
          -34.60425669,
          -34.60409469,
          -34.60395657,
          -34.60373898,
          -34.60356211,
          -34.60325478,
          -34.60283208,
          -34.60256036,
          -34.60221948,
          -34.60207186,
          -34.60189492,
          -34.60183884,
          -34.60135531,
          -34.60111373,
          -34.60106568,
          -34.60097942,
          -34.60066507,
          -34.60053054,
          -34.60028648,
          -34.60003693,
          -34.59975962,
          -34.59970903,
          -34.59967065,
          -34.59963642,
          -34.59954925,
          -34.59952725,
          -34.5993918,
          -34.5991594,
          -34.59912758,
          -34.59879316,
          -34.59871111,
          -34.59832047,
          -34.59804521,
          -34.59804273,
          -34.59800248,
          -34.59798754,
          -34.59779521,
          -34.59778875,
          -34.59774487,
          -34.5972499,
          -34.59724326,
          -34.59718073,
          -34.59717942,
          -34.59703502,
          -34.59694755,
          -34.59635137,
          -34.59626814,
          -34.59573848,
          -34.59564871,
          -34.59559816,
          -34.59546519,
          -34.59522198,
          -34.59511714,
          -34.59488319,
          -34.59485488,
          -34.59484504,
          -34.5947736,
          -34.59473294,
          -34.5947164,
          -34.5943016,
          -34.59411677,
          -34.59407024,
          -34.59394733,
          -34.59322448,
          -34.59283447,
          -34.59279388,
          -34.59276462,
          -34.59217875,
          -34.59213355,
          -34.59185043,
          -34.59176378,
          -34.59171721,
          -34.5917024,
          -34.59167894,
          -34.59088447,
          -34.59082159,
          -34.59070093,
          -34.59035925,
          -34.58984288,
          -34.58927731,
          -34.5884156,
          -34.58788235,
          -34.5877879,
          -34.58711712,
          -34.58703485,
          -34.58698157,
          -34.5869768,
          -34.58695347,
          -34.58689719,
          -34.58679619,
          -34.58657938,
          -34.58623761,
          -34.58622275,
          -34.5857988,
          -34.58569883,
          -34.58541957,
          -34.58518167,
          -34.5849866,
          -34.58494351,
          -34.58451712,
          -34.58435809,
          -34.58428769,
          -34.58418569,
          -34.58405348,
          -34.58368803,
          -34.58345898,
          -34.5834269,
          -34.58307887,
          -34.58271474,
          -34.58226957,
          -34.58159762,
          -34.58129246,
          -34.58095431,
          -34.58075791,
          -34.58070186,
          -34.58035258,
          -34.57994061,
          -34.57964781,
          -34.57962262,
          -34.57929036,
          -34.57926018,
          -34.5791692,
          -34.57905579,
          -34.5786897,
          -34.57866344,
          -34.57827342,
          -34.57816791,
          -34.5780581,
          -34.57786555,
          -34.5772806,
          -34.57663634,
          -34.57660058,
          -34.57579669,
          -34.57563957,
          -34.57558053,
          -34.57418656,
          -34.57305993,
          -34.57251072,
          -34.57241534,
          -34.57208238,
          -34.57121563,
          -34.57084818,
          -34.5698141,
          -34.56961468,
          -34.56919739,
          -34.5688864,
          -34.56786129,
          -34.56767549,
          -34.56726817,
          -34.56539579,
          -34.56403694,
          -34.5637998,
          -34.56353635,
          -34.56219075,
          -34.56213916,
          -34.5620361,
          -34.56201105,
          -34.56166498,
          -34.56147293,
          -34.56015762,
          -34.55953855,
          -34.55922742,
          -34.55904606,
          -34.5578132,
          -34.55760517,
          -34.55719892,
          -34.55676497,
          -34.55555257,
          -34.55509606,
          -34.55395823,
          -34.55374003,
          -34.55217303,
          -34.55185825,
          -34.55161027,
          -34.55046754,
          -34.5497951,
          -34.54972741,
          -34.54966288,
          -34.54917673,
          -34.54864492,
          -34.54836855,
          -34.54795581,
          -34.54738649,
          -34.54628513,
          -34.54596153,
          -34.54560369,
          -34.54538956,
          -34.54395182,
          -34.54332766,
          -34.54321216,
          -34.54200276,
          -34.54153077,
          -34.5407313,
          -34.54048625,
          -34.53825652,
          -34.53476874,
          -34.53465378
         ],
         "lon": [
          -58.46244952,
          -58.47064556,
          -58.47199387,
          -58.46552171,
          -58.47802293,
          -58.47976785,
          -58.48695354,
          -58.47533969,
          -58.47305463,
          -58.47230127,
          -58.44451316,
          -58.48267426,
          -58.48191128,
          -58.48892175,
          -58.49007772,
          -58.46745752,
          -58.48003734,
          -58.49413799,
          -58.46503904,
          -58.46912006,
          -58.49530249,
          -58.45064148,
          -58.49371157,
          -58.46622247,
          -58.49683458,
          -58.49896559,
          -58.48432691,
          -58.48935287,
          -58.48455411,
          -58.47832463,
          -58.5025179,
          -58.45966521,
          -58.50011639,
          -58.47743966,
          -58.46855503,
          -58.46713742,
          -58.44483258,
          -58.43284809,
          -58.49573651,
          -58.50877521,
          -58.45410344,
          -58.47461076,
          -58.4423972,
          -58.47433193007387,
          -58.44094791,
          -58.45012957,
          -58.43580656,
          -58.43613623,
          -58.42493829,
          -58.5183993,
          -58.47297505,
          -58.43254025,
          -58.42985146,
          -58.48266599,
          -58.42040352,
          -58.46442668,
          -58.52173071,
          -58.44989671,
          -58.48200819,
          -58.51232237,
          -58.47010988,
          -58.49441273,
          -58.51140289,
          -58.48457413,
          -58.49344309,
          -58.42378834,
          -58.44642231,
          -58.47750832,
          -58.42190745,
          -58.46635001,
          -58.479611,
          -58.37571078,
          -58.37460912,
          -58.50719962,
          -58.43850413,
          -58.41827843,
          -58.41657793,
          -58.43960781,
          -58.50990884,
          -58.42759813,
          -58.37157668,
          -58.43614426,
          -58.52931141,
          -58.41125934,
          -58.4197085,
          -58.44925765,
          -58.37547846,
          -58.50407099,
          -58.47325712,
          -58.40879146,
          -58.37585415,
          -58.47256391,
          -58.50801713,
          -58.46668375,
          -58.39546165,
          -58.46739825,
          -58.40056767,
          -58.38972622,
          -58.43980799,
          -58.45537373,
          -58.41650465,
          -58.45463662,
          -58.44074927,
          -58.40623949,
          -58.41146277,
          -58.40969005,
          -58.47066794,
          -58.49019551,
          -58.52932872,
          -58.40544588,
          -58.42473018,
          -58.46451841,
          -58.42102679,
          -58.41842777,
          -58.51061062,
          -58.46958442,
          -58.44187596,
          -58.47155277,
          -58.49962423,
          -58.47721439,
          -58.51514709,
          -58.48501341,
          -58.46774439,
          -58.38636298,
          -58.45019436,
          -58.42003882,
          -58.41083404,
          -58.46712311,
          -58.52866211,
          -58.52844623,
          -58.49142611,
          -58.44744156,
          -58.49603546,
          -58.43353773,
          -58.40184094,
          -58.37207554,
          -58.39871183,
          -58.49525314,
          -58.4338383,
          -58.37562539,
          -58.44609828,
          -58.38957669,
          -58.46258582,
          -58.44516857,
          -58.46275892,
          -58.44147621,
          -58.3597716,
          -58.52887773,
          -58.36882665,
          -58.42281627,
          -58.49101637,
          -58.47120586,
          -58.49020869,
          -58.42023854,
          -58.42273092,
          -58.52219407,
          -58.42323628,
          -58.52994219,
          -58.45130953,
          -58.48606475,
          -58.37709334,
          -58.42349365,
          -58.45807401,
          -58.37441153,
          -58.38666024,
          -58.45855262,
          -58.51140889,
          -58.51739138,
          -58.52927982,
          -58.51973844,
          -58.51876802,
          -58.44682986,
          -58.52909134,
          -58.41455544,
          -58.44497874,
          -58.36376488,
          -58.37627355,
          -58.52567073,
          -58.49945705,
          -58.41911301,
          -58.35791192,
          -58.43213235,
          -58.52144411,
          -58.4426358,
          -58.37813396,
          -58.47130269,
          -58.52280139,
          -58.37714647568196,
          -58.48727942,
          -58.45068621,
          -58.52922765,
          -58.51927194,
          -58.46572884,
          -58.50622631,
          -58.52502765,
          -58.50178784,
          -58.41288952,
          -58.46749188,
          -58.45485084,
          -58.47439934,
          -58.48100602,
          -58.4475047,
          -58.38685612,
          -58.35608181,
          -58.49261744,
          -58.39035581,
          -58.51262106,
          -58.52108101,
          -58.46941984,
          -58.38313603,
          -58.4607655,
          -58.46851293,
          -58.35975012,
          -58.38641783,
          -58.43706741,
          -58.46899119,
          -58.47460416,
          -58.38332245,
          -58.39040293,
          -58.41918902,
          -58.38262614,
          -58.37261143,
          -58.45715752,
          -58.36244648,
          -58.38691681,
          -58.3841088,
          -58.42182126,
          -58.46963952,
          -58.45157703,
          -58.41914024,
          -58.49807953,
          -58.39626094,
          -58.41178165,
          -58.41644362,
          -58.48493828,
          -58.39956546,
          -58.37724226,
          -58.46064174,
          -58.46589308,
          -58.49485242,
          -58.43052224,
          -58.44402387,
          -58.39092851,
          -58.45546217,
          -58.40489318,
          -58.46411215,
          -58.46325991,
          -58.46438789,
          -58.37864583,
          -58.50535541,
          -58.46271207,
          -58.4099756,
          -58.41972364,
          -58.36926144,
          -58.4356488,
          -58.4338197,
          -58.3795169,
          -58.38281301,
          -58.3964074,
          -58.52756365,
          -58.47074114,
          -58.49022072,
          -58.37910943,
          -58.37910942,
          -58.36737389,
          -58.41595919,
          -58.47110424,
          -58.38222219,
          -58.37560352,
          -58.39118948,
          -58.42675754,
          -58.37936704,
          -58.38223382,
          -58.45593915,
          -58.37960727,
          -58.38247061,
          -58.45743597,
          -58.38247542,
          -58.44788671,
          -58.36797542,
          -58.42717783,
          -58.44062219,
          -58.39114932,
          -58.41036975,
          -58.38211431,
          -58.52449285,
          -58.39591856,
          -58.45457546,
          -58.40708125,
          -58.36217754,
          -58.40042405,
          -58.44864864,
          -58.39123782,
          -58.45877601,
          -58.44362126,
          -58.39536773,
          -58.38099494,
          -58.51989389,
          -58.38268809,
          -58.36523349,
          -58.38718297,
          -58.4596221,
          -58.38099833,
          -58.42779702,
          -58.37564821,
          -58.39311376,
          -58.36607137,
          -58.4368044,
          -58.47633683,
          -58.40917826,
          -58.52572109,
          -58.40280471,
          -58.41509546,
          -58.44110156,
          -58.50751833,
          -58.47418944,
          -58.45322169,
          -58.41635217,
          -58.49021952,
          -58.47293407,
          -58.40778291,
          -58.39883882,
          -58.36907201,
          -58.4750156,
          -58.40638983,
          -58.37456088,
          -58.40351561,
          -58.41822901,
          -58.40098306,
          -58.38109568,
          -58.42855267,
          -58.41803309,
          -58.39032921,
          -58.38896772,
          -58.38746381,
          -58.40604003,
          -58.40657493,
          -58.46909362,
          -58.52640838,
          -58.38113667,
          -58.47576807,
          -58.36659655,
          -58.3815685,
          -58.38118367,
          -58.39914719,
          -58.51398484,
          -58.49794468,
          -58.39038605,
          -58.40288226,
          -58.3816166,
          -58.50512382,
          -58.41095567,
          -58.3967447,
          -58.36947198,
          -58.47152163,
          -58.40491455,
          -58.39613805,
          -58.3600465,
          -58.44034689,
          -58.38048577,
          -58.37471802,
          -58.39246272,
          -58.36956186,
          -58.41677733,
          -58.49122843,
          -58.45475488,
          -58.41168345,
          -58.52161176,
          -58.45351111,
          -58.35881506,
          -58.41971993,
          -58.38481975,
          -58.36726348,
          -58.52933723,
          -58.38144696,
          -58.42891604,
          -58.45227946,
          -58.52783814,
          -58.4659423,
          -58.4059686,
          -58.40258477,
          -58.41458534,
          -58.39337644,
          -58.41178158,
          -58.39055614,
          -58.46483679,
          -58.381542,
          -58.38872177,
          -58.40603217,
          -58.50095869,
          -58.41047268,
          -58.4844016,
          -58.40612253,
          -58.42462955,
          -58.46442001,
          -58.37952223,
          -58.45158942,
          -58.41985649,
          -58.46051346,
          -58.37653284,
          -58.40571596,
          -58.3702777,
          -58.38362373,
          -58.36154069,
          -58.40547222,
          -58.46415322,
          -58.39228965,
          -58.40781467,
          -58.46002142,
          -58.44860217,
          -58.38220928,
          -58.46210891,
          -58.52466448,
          -58.36819005,
          -58.38188582,
          -58.44248936,
          -58.43220014,
          -58.370488,
          -58.40480504,
          -58.38110563,
          -58.47220945,
          -58.36860866,
          -58.40944147,
          -58.37062179,
          -58.37942637,
          -58.38199706,
          -58.4045461,
          -58.3987261,
          -58.44671397,
          -58.47883099,
          -58.39293417,
          -58.39897064,
          -58.37093138,
          -58.4105928,
          -58.38403232,
          -58.4376002,
          -58.37133616,
          -58.39303911,
          -58.36951669,
          -58.40662899,
          -58.50791763,
          -58.41192137,
          -58.52340614,
          -58.48328708,
          -58.41894306,
          -58.4233693,
          -58.49018543,
          -58.44368628,
          -58.49121672,
          -58.37202621,
          -58.49613012,
          -58.49471482,
          -58.44259166,
          -58.47032551,
          -58.37697717,
          -58.39144148,
          -58.44551437,
          -58.51713095,
          -58.40021675,
          -58.39990285,
          -58.4145159,
          -58.4291709,
          -58.46536113,
          -58.44399875,
          -58.41264127,
          -58.52169422,
          -58.38277479,
          -58.41829559,
          -58.52037476,
          -58.41848605,
          -58.4495878,
          -58.38161909,
          -58.51280715,
          -58.37533517,
          -58.4268668,
          -58.43910409,
          -58.44254033,
          -58.39189441,
          -58.51925642,
          -58.44759966,
          -58.37795815,
          -58.39092703,
          -58.43531242,
          -58.49820145,
          -58.51537091,
          -58.45134029,
          -58.38090932,
          -58.45283186,
          -58.40966671,
          -58.42016954,
          -58.45220688,
          -58.38502878,
          -58.45511899,
          -58.41354692,
          -58.45021367,
          -58.48680218,
          -58.37976155,
          -58.51664939,
          -58.46141281,
          -58.48744301,
          -58.4116902,
          -58.46033141,
          -58.37208118,
          -58.45396573,
          -58.3910058,
          -58.43917004,
          -58.42934104,
          -58.45343236,
          -58.48222035,
          -58.39056593,
          -58.39391034,
          -58.49040794,
          -58.40617526,
          -58.40204698,
          -58.39731474,
          -58.39936478,
          -58.49175088,
          -58.51452347,
          -58.40367321,
          -58.429012,
          -58.51389422,
          -58.39811256,
          -58.42533612,
          -58.47549929,
          -58.40021959,
          -58.49563989,
          -58.42554218,
          -58.46711912,
          -58.45448963,
          -58.46720441,
          -58.49005682,
          -58.42525456,
          -58.47087351,
          -58.42653328,
          -58.38526125,
          -58.51271409,
          -58.40986646,
          -58.47461905,
          -58.42957885,
          -58.41316147,
          -58.39257023,
          -58.4842918,
          -58.47973681,
          -58.45686132,
          -58.50997604,
          -58.39490504,
          -58.48250732,
          -58.47969138,
          -58.44537508,
          -58.49026573,
          -58.42668489,
          -58.50993046,
          -58.44704343,
          -58.48661286,
          -58.5015175,
          -58.40786274,
          -58.42008769,
          -58.42260225,
          -58.50598256,
          -58.49659234,
          -58.46649069,
          -58.42406784,
          -58.45669422,
          -58.44462132,
          -58.45849057,
          -58.45566399,
          -58.45829717,
          -58.44523595,
          -58.4590967,
          -58.4872106,
          -58.45200171,
          -58.44196498,
          -58.44751621,
          -58.47935434,
          -58.45531707,
          -58.41652702,
          -58.4621322,
          -58.45049163,
          -58.45157681,
          -58.43233425,
          -58.43674281,
          -58.49185972,
          -58.5007381,
          -58.46756026,
          -58.43633522,
          -58.48935041,
          -58.45504154,
          -58.49332664,
          -58.49491054,
          -58.49216191,
          -58.45212523,
          -58.48941042,
          -58.43834197,
          -58.44112678,
          -58.46062311,
          -58.46129513,
          -58.48671535,
          -58.44903073,
          -58.47378664,
          -58.48098594,
          -58.44927253,
          -58.47617802,
          -58.46743471,
          -58.46514781
         ],
         "name": "",
         "opacity": 0.7,
         "radius": 35,
         "subplot": "mapbox",
         "type": "densitymapbox",
         "z": [
          2,
          3,
          2,
          1,
          1,
          3,
          2,
          1,
          1,
          1,
          5,
          2,
          1,
          1,
          1,
          1,
          2,
          1,
          1,
          1,
          1,
          1,
          1,
          1,
          1,
          1,
          1,
          1,
          1,
          1,
          2,
          1,
          1,
          1,
          1,
          1,
          1,
          1,
          1,
          4,
          1,
          1,
          1,
          1,
          1,
          1,
          1,
          1,
          1,
          1,
          2,
          1,
          1,
          1,
          1,
          1,
          1,
          1,
          1,
          2,
          1,
          1,
          1,
          1,
          1,
          1,
          1,
          1,
          1,
          1,
          1,
          1,
          1,
          1,
          2,
          1,
          4,
          1,
          1,
          1,
          2,
          1,
          1,
          2,
          1,
          1,
          1,
          1,
          1,
          1,
          1,
          1,
          1,
          1,
          1,
          2,
          1,
          1,
          1,
          1,
          1,
          1,
          1,
          3,
          1,
          1,
          1,
          1,
          2,
          1,
          1,
          1,
          1,
          2,
          1,
          1,
          1,
          1,
          1,
          1,
          1,
          1,
          1,
          2,
          1,
          1,
          1,
          1,
          1,
          2,
          1,
          1,
          2,
          1,
          2,
          1,
          1,
          1,
          1,
          1,
          1,
          1,
          1,
          1,
          1,
          1,
          1,
          1,
          1,
          1,
          1,
          1,
          1,
          1,
          1,
          1,
          2,
          1,
          1,
          1,
          3,
          1,
          2,
          1,
          1,
          1,
          1,
          1,
          2,
          1,
          1,
          1,
          1,
          1,
          1,
          1,
          1,
          1,
          1,
          1,
          1,
          1,
          1,
          1,
          1,
          1,
          2,
          1,
          3,
          1,
          1,
          1,
          1,
          1,
          1,
          1,
          1,
          3,
          1,
          1,
          1,
          1,
          1,
          1,
          1,
          1,
          1,
          1,
          1,
          1,
          2,
          1,
          1,
          1,
          1,
          1,
          1,
          1,
          1,
          1,
          1,
          1,
          1,
          1,
          1,
          1,
          1,
          3,
          1,
          1,
          1,
          2,
          1,
          1,
          1,
          1,
          1,
          1,
          1,
          1,
          1,
          1,
          1,
          1,
          1,
          2,
          1,
          1,
          2,
          1,
          1,
          1,
          1,
          1,
          1,
          1,
          1,
          1,
          1,
          1,
          1,
          1,
          1,
          1,
          1,
          2,
          1,
          1,
          1,
          3,
          1,
          1,
          1,
          1,
          1,
          1,
          1,
          1,
          1,
          2,
          1,
          1,
          1,
          2,
          1,
          1,
          1,
          1,
          1,
          1,
          1,
          1,
          1,
          1,
          1,
          1,
          1,
          1,
          2,
          1,
          1,
          2,
          1,
          2,
          1,
          1,
          2,
          1,
          1,
          2,
          2,
          1,
          1,
          2,
          1,
          1,
          1,
          1,
          1,
          1,
          1,
          1,
          1,
          1,
          1,
          1,
          1,
          1,
          1,
          1,
          2,
          1,
          1,
          3,
          1,
          1,
          1,
          1,
          1,
          1,
          1,
          1,
          1,
          1,
          1,
          1,
          1,
          1,
          1,
          1,
          1,
          1,
          1,
          1,
          1,
          1,
          1,
          1,
          1,
          1,
          1,
          1,
          1,
          1,
          1,
          1,
          1,
          1,
          1,
          3,
          2,
          1,
          1,
          1,
          1,
          1,
          1,
          2,
          1,
          2,
          1,
          1,
          1,
          1,
          1,
          1,
          1,
          2,
          1,
          1,
          1,
          1,
          1,
          1,
          1,
          1,
          1,
          1,
          1,
          1,
          1,
          1,
          1,
          1,
          1,
          1,
          1,
          1,
          1,
          1,
          1,
          1,
          1,
          1,
          1,
          1,
          1,
          2,
          1,
          1,
          2,
          1,
          1,
          1,
          1,
          1,
          1,
          1,
          1,
          1,
          1,
          1,
          1,
          1,
          1,
          1,
          1,
          2,
          2,
          1,
          1,
          1,
          3,
          1,
          1,
          1,
          1,
          1,
          1,
          1,
          1,
          1,
          1,
          1,
          1,
          1,
          1,
          1,
          1,
          1,
          1,
          1,
          1,
          1,
          1,
          1,
          1,
          1,
          1,
          1,
          1,
          1,
          1,
          3,
          1,
          1,
          1,
          2,
          1,
          2,
          1,
          1,
          1,
          1,
          1,
          1,
          1,
          1,
          1,
          1,
          1,
          1,
          1,
          1,
          1,
          1,
          1,
          1,
          1,
          1,
          1,
          1,
          1,
          1,
          1,
          1,
          1,
          1,
          1,
          1,
          1,
          1,
          2,
          1,
          1,
          1,
          1,
          2,
          1,
          1,
          1,
          1,
          1,
          1,
          1,
          1,
          1,
          1,
          1,
          1,
          1,
          2,
          1,
          1,
          3,
          1,
          1,
          1,
          1,
          1,
          1,
          1,
          1,
          1,
          1,
          1,
          1,
          1,
          1,
          1,
          2,
          1,
          1,
          1,
          1,
          1,
          1,
          1,
          1,
          2,
          1,
          1,
          1,
          1,
          1,
          1,
          1,
          1,
          1,
          1,
          1,
          1,
          1,
          1,
          1,
          1,
          1,
          1,
          1,
          1,
          1,
          1,
          4,
          1,
          1,
          1,
          1,
          2,
          4,
          1,
          1,
          1,
          1,
          1,
          1,
          1,
          1,
          1,
          1,
          1,
          2,
          2,
          4,
          1
         ]
        }
       ],
       "layout": {
        "coloraxis": {
         "cmax": 5,
         "cmin": 0,
         "colorbar": {
          "title": {
           "text": "Frecuencia"
          }
         },
         "colorscale": [
          [
           0,
           "rgb(255,245,240)"
          ],
          [
           0.125,
           "rgb(254,224,210)"
          ],
          [
           0.25,
           "rgb(252,187,161)"
          ],
          [
           0.375,
           "rgb(252,146,114)"
          ],
          [
           0.5,
           "rgb(251,106,74)"
          ],
          [
           0.625,
           "rgb(239,59,44)"
          ],
          [
           0.75,
           "rgb(203,24,29)"
          ],
          [
           0.875,
           "rgb(165,15,21)"
          ],
          [
           1,
           "rgb(103,0,13)"
          ]
         ]
        },
        "legend": {
         "tracegroupgap": 0
        },
        "mapbox": {
         "center": {
          "lat": -34.6037,
          "lon": -58.3816
         },
         "domain": {
          "x": [
           0,
           1
          ],
          "y": [
           0,
           1
          ]
         },
         "style": "open-street-map",
         "zoom": 10
        },
        "template": {
         "data": {
          "bar": [
           {
            "error_x": {
             "color": "#2a3f5f"
            },
            "error_y": {
             "color": "#2a3f5f"
            },
            "marker": {
             "line": {
              "color": "#E5ECF6",
              "width": 0.5
             },
             "pattern": {
              "fillmode": "overlay",
              "size": 10,
              "solidity": 0.2
             }
            },
            "type": "bar"
           }
          ],
          "barpolar": [
           {
            "marker": {
             "line": {
              "color": "#E5ECF6",
              "width": 0.5
             },
             "pattern": {
              "fillmode": "overlay",
              "size": 10,
              "solidity": 0.2
             }
            },
            "type": "barpolar"
           }
          ],
          "carpet": [
           {
            "aaxis": {
             "endlinecolor": "#2a3f5f",
             "gridcolor": "white",
             "linecolor": "white",
             "minorgridcolor": "white",
             "startlinecolor": "#2a3f5f"
            },
            "baxis": {
             "endlinecolor": "#2a3f5f",
             "gridcolor": "white",
             "linecolor": "white",
             "minorgridcolor": "white",
             "startlinecolor": "#2a3f5f"
            },
            "type": "carpet"
           }
          ],
          "choropleth": [
           {
            "colorbar": {
             "outlinewidth": 0,
             "ticks": ""
            },
            "type": "choropleth"
           }
          ],
          "contour": [
           {
            "colorbar": {
             "outlinewidth": 0,
             "ticks": ""
            },
            "colorscale": [
             [
              0,
              "#0d0887"
             ],
             [
              0.1111111111111111,
              "#46039f"
             ],
             [
              0.2222222222222222,
              "#7201a8"
             ],
             [
              0.3333333333333333,
              "#9c179e"
             ],
             [
              0.4444444444444444,
              "#bd3786"
             ],
             [
              0.5555555555555556,
              "#d8576b"
             ],
             [
              0.6666666666666666,
              "#ed7953"
             ],
             [
              0.7777777777777778,
              "#fb9f3a"
             ],
             [
              0.8888888888888888,
              "#fdca26"
             ],
             [
              1,
              "#f0f921"
             ]
            ],
            "type": "contour"
           }
          ],
          "contourcarpet": [
           {
            "colorbar": {
             "outlinewidth": 0,
             "ticks": ""
            },
            "type": "contourcarpet"
           }
          ],
          "heatmap": [
           {
            "colorbar": {
             "outlinewidth": 0,
             "ticks": ""
            },
            "colorscale": [
             [
              0,
              "#0d0887"
             ],
             [
              0.1111111111111111,
              "#46039f"
             ],
             [
              0.2222222222222222,
              "#7201a8"
             ],
             [
              0.3333333333333333,
              "#9c179e"
             ],
             [
              0.4444444444444444,
              "#bd3786"
             ],
             [
              0.5555555555555556,
              "#d8576b"
             ],
             [
              0.6666666666666666,
              "#ed7953"
             ],
             [
              0.7777777777777778,
              "#fb9f3a"
             ],
             [
              0.8888888888888888,
              "#fdca26"
             ],
             [
              1,
              "#f0f921"
             ]
            ],
            "type": "heatmap"
           }
          ],
          "heatmapgl": [
           {
            "colorbar": {
             "outlinewidth": 0,
             "ticks": ""
            },
            "colorscale": [
             [
              0,
              "#0d0887"
             ],
             [
              0.1111111111111111,
              "#46039f"
             ],
             [
              0.2222222222222222,
              "#7201a8"
             ],
             [
              0.3333333333333333,
              "#9c179e"
             ],
             [
              0.4444444444444444,
              "#bd3786"
             ],
             [
              0.5555555555555556,
              "#d8576b"
             ],
             [
              0.6666666666666666,
              "#ed7953"
             ],
             [
              0.7777777777777778,
              "#fb9f3a"
             ],
             [
              0.8888888888888888,
              "#fdca26"
             ],
             [
              1,
              "#f0f921"
             ]
            ],
            "type": "heatmapgl"
           }
          ],
          "histogram": [
           {
            "marker": {
             "pattern": {
              "fillmode": "overlay",
              "size": 10,
              "solidity": 0.2
             }
            },
            "type": "histogram"
           }
          ],
          "histogram2d": [
           {
            "colorbar": {
             "outlinewidth": 0,
             "ticks": ""
            },
            "colorscale": [
             [
              0,
              "#0d0887"
             ],
             [
              0.1111111111111111,
              "#46039f"
             ],
             [
              0.2222222222222222,
              "#7201a8"
             ],
             [
              0.3333333333333333,
              "#9c179e"
             ],
             [
              0.4444444444444444,
              "#bd3786"
             ],
             [
              0.5555555555555556,
              "#d8576b"
             ],
             [
              0.6666666666666666,
              "#ed7953"
             ],
             [
              0.7777777777777778,
              "#fb9f3a"
             ],
             [
              0.8888888888888888,
              "#fdca26"
             ],
             [
              1,
              "#f0f921"
             ]
            ],
            "type": "histogram2d"
           }
          ],
          "histogram2dcontour": [
           {
            "colorbar": {
             "outlinewidth": 0,
             "ticks": ""
            },
            "colorscale": [
             [
              0,
              "#0d0887"
             ],
             [
              0.1111111111111111,
              "#46039f"
             ],
             [
              0.2222222222222222,
              "#7201a8"
             ],
             [
              0.3333333333333333,
              "#9c179e"
             ],
             [
              0.4444444444444444,
              "#bd3786"
             ],
             [
              0.5555555555555556,
              "#d8576b"
             ],
             [
              0.6666666666666666,
              "#ed7953"
             ],
             [
              0.7777777777777778,
              "#fb9f3a"
             ],
             [
              0.8888888888888888,
              "#fdca26"
             ],
             [
              1,
              "#f0f921"
             ]
            ],
            "type": "histogram2dcontour"
           }
          ],
          "mesh3d": [
           {
            "colorbar": {
             "outlinewidth": 0,
             "ticks": ""
            },
            "type": "mesh3d"
           }
          ],
          "parcoords": [
           {
            "line": {
             "colorbar": {
              "outlinewidth": 0,
              "ticks": ""
             }
            },
            "type": "parcoords"
           }
          ],
          "pie": [
           {
            "automargin": true,
            "type": "pie"
           }
          ],
          "scatter": [
           {
            "fillpattern": {
             "fillmode": "overlay",
             "size": 10,
             "solidity": 0.2
            },
            "type": "scatter"
           }
          ],
          "scatter3d": [
           {
            "line": {
             "colorbar": {
              "outlinewidth": 0,
              "ticks": ""
             }
            },
            "marker": {
             "colorbar": {
              "outlinewidth": 0,
              "ticks": ""
             }
            },
            "type": "scatter3d"
           }
          ],
          "scattercarpet": [
           {
            "marker": {
             "colorbar": {
              "outlinewidth": 0,
              "ticks": ""
             }
            },
            "type": "scattercarpet"
           }
          ],
          "scattergeo": [
           {
            "marker": {
             "colorbar": {
              "outlinewidth": 0,
              "ticks": ""
             }
            },
            "type": "scattergeo"
           }
          ],
          "scattergl": [
           {
            "marker": {
             "colorbar": {
              "outlinewidth": 0,
              "ticks": ""
             }
            },
            "type": "scattergl"
           }
          ],
          "scattermapbox": [
           {
            "marker": {
             "colorbar": {
              "outlinewidth": 0,
              "ticks": ""
             }
            },
            "type": "scattermapbox"
           }
          ],
          "scatterpolar": [
           {
            "marker": {
             "colorbar": {
              "outlinewidth": 0,
              "ticks": ""
             }
            },
            "type": "scatterpolar"
           }
          ],
          "scatterpolargl": [
           {
            "marker": {
             "colorbar": {
              "outlinewidth": 0,
              "ticks": ""
             }
            },
            "type": "scatterpolargl"
           }
          ],
          "scatterternary": [
           {
            "marker": {
             "colorbar": {
              "outlinewidth": 0,
              "ticks": ""
             }
            },
            "type": "scatterternary"
           }
          ],
          "surface": [
           {
            "colorbar": {
             "outlinewidth": 0,
             "ticks": ""
            },
            "colorscale": [
             [
              0,
              "#0d0887"
             ],
             [
              0.1111111111111111,
              "#46039f"
             ],
             [
              0.2222222222222222,
              "#7201a8"
             ],
             [
              0.3333333333333333,
              "#9c179e"
             ],
             [
              0.4444444444444444,
              "#bd3786"
             ],
             [
              0.5555555555555556,
              "#d8576b"
             ],
             [
              0.6666666666666666,
              "#ed7953"
             ],
             [
              0.7777777777777778,
              "#fb9f3a"
             ],
             [
              0.8888888888888888,
              "#fdca26"
             ],
             [
              1,
              "#f0f921"
             ]
            ],
            "type": "surface"
           }
          ],
          "table": [
           {
            "cells": {
             "fill": {
              "color": "#EBF0F8"
             },
             "line": {
              "color": "white"
             }
            },
            "header": {
             "fill": {
              "color": "#C8D4E3"
             },
             "line": {
              "color": "white"
             }
            },
            "type": "table"
           }
          ]
         },
         "layout": {
          "annotationdefaults": {
           "arrowcolor": "#2a3f5f",
           "arrowhead": 0,
           "arrowwidth": 1
          },
          "autotypenumbers": "strict",
          "coloraxis": {
           "colorbar": {
            "outlinewidth": 0,
            "ticks": ""
           }
          },
          "colorscale": {
           "diverging": [
            [
             0,
             "#8e0152"
            ],
            [
             0.1,
             "#c51b7d"
            ],
            [
             0.2,
             "#de77ae"
            ],
            [
             0.3,
             "#f1b6da"
            ],
            [
             0.4,
             "#fde0ef"
            ],
            [
             0.5,
             "#f7f7f7"
            ],
            [
             0.6,
             "#e6f5d0"
            ],
            [
             0.7,
             "#b8e186"
            ],
            [
             0.8,
             "#7fbc41"
            ],
            [
             0.9,
             "#4d9221"
            ],
            [
             1,
             "#276419"
            ]
           ],
           "sequential": [
            [
             0,
             "#0d0887"
            ],
            [
             0.1111111111111111,
             "#46039f"
            ],
            [
             0.2222222222222222,
             "#7201a8"
            ],
            [
             0.3333333333333333,
             "#9c179e"
            ],
            [
             0.4444444444444444,
             "#bd3786"
            ],
            [
             0.5555555555555556,
             "#d8576b"
            ],
            [
             0.6666666666666666,
             "#ed7953"
            ],
            [
             0.7777777777777778,
             "#fb9f3a"
            ],
            [
             0.8888888888888888,
             "#fdca26"
            ],
            [
             1,
             "#f0f921"
            ]
           ],
           "sequentialminus": [
            [
             0,
             "#0d0887"
            ],
            [
             0.1111111111111111,
             "#46039f"
            ],
            [
             0.2222222222222222,
             "#7201a8"
            ],
            [
             0.3333333333333333,
             "#9c179e"
            ],
            [
             0.4444444444444444,
             "#bd3786"
            ],
            [
             0.5555555555555556,
             "#d8576b"
            ],
            [
             0.6666666666666666,
             "#ed7953"
            ],
            [
             0.7777777777777778,
             "#fb9f3a"
            ],
            [
             0.8888888888888888,
             "#fdca26"
            ],
            [
             1,
             "#f0f921"
            ]
           ]
          },
          "colorway": [
           "#636efa",
           "#EF553B",
           "#00cc96",
           "#ab63fa",
           "#FFA15A",
           "#19d3f3",
           "#FF6692",
           "#B6E880",
           "#FF97FF",
           "#FECB52"
          ],
          "font": {
           "color": "#2a3f5f"
          },
          "geo": {
           "bgcolor": "white",
           "lakecolor": "white",
           "landcolor": "#E5ECF6",
           "showlakes": true,
           "showland": true,
           "subunitcolor": "white"
          },
          "hoverlabel": {
           "align": "left"
          },
          "hovermode": "closest",
          "mapbox": {
           "style": "light"
          },
          "paper_bgcolor": "white",
          "plot_bgcolor": "#E5ECF6",
          "polar": {
           "angularaxis": {
            "gridcolor": "white",
            "linecolor": "white",
            "ticks": ""
           },
           "bgcolor": "#E5ECF6",
           "radialaxis": {
            "gridcolor": "white",
            "linecolor": "white",
            "ticks": ""
           }
          },
          "scene": {
           "xaxis": {
            "backgroundcolor": "#E5ECF6",
            "gridcolor": "white",
            "gridwidth": 2,
            "linecolor": "white",
            "showbackground": true,
            "ticks": "",
            "zerolinecolor": "white"
           },
           "yaxis": {
            "backgroundcolor": "#E5ECF6",
            "gridcolor": "white",
            "gridwidth": 2,
            "linecolor": "white",
            "showbackground": true,
            "ticks": "",
            "zerolinecolor": "white"
           },
           "zaxis": {
            "backgroundcolor": "#E5ECF6",
            "gridcolor": "white",
            "gridwidth": 2,
            "linecolor": "white",
            "showbackground": true,
            "ticks": "",
            "zerolinecolor": "white"
           }
          },
          "shapedefaults": {
           "line": {
            "color": "#2a3f5f"
           }
          },
          "ternary": {
           "aaxis": {
            "gridcolor": "white",
            "linecolor": "white",
            "ticks": ""
           },
           "baxis": {
            "gridcolor": "white",
            "linecolor": "white",
            "ticks": ""
           },
           "bgcolor": "#E5ECF6",
           "caxis": {
            "gridcolor": "white",
            "linecolor": "white",
            "ticks": ""
           }
          },
          "title": {
           "x": 0.05
          },
          "xaxis": {
           "automargin": true,
           "gridcolor": "white",
           "linecolor": "white",
           "ticks": "",
           "title": {
            "standoff": 15
           },
           "zerolinecolor": "white",
           "zerolinewidth": 2
          },
          "yaxis": {
           "automargin": true,
           "gridcolor": "white",
           "linecolor": "white",
           "ticks": "",
           "title": {
            "standoff": 15
           },
           "zerolinecolor": "white",
           "zerolinewidth": 2
          }
         }
        },
        "title": {
         "text": "Mapa de Calor Interactivo de Hechos"
        }
       }
      }
     },
     "metadata": {},
     "output_type": "display_data"
    }
   ],
   "source": [
    "# Bueno también se uede usar libreria plotyexpress segun gpt asi:\n",
    "\n",
    "# Agrupa el DataFrame 'df_accidentes' por las coordenadas de ubicación y calcula la frecuencia de homicidios para cada grupo. Luego, reinicia el índice para convertir el resultado en un DataFrame.\n",
    "df_top_locations_freq = df_accidentes.groupby(['LATITUD', 'LONGITUD']).size().reset_index(name='Frecuencia')\n",
    "\n",
    "# Encuentra la máxima frecuencia de homicidios entre todas las ubicaciones para establecer un rango de colores adecuado en el mapa.\n",
    "max_frequency = df_top_locations_freq['Frecuencia'].max()\n",
    "\n",
    "# Utiliza Plotly Express para crear un mapa de calor interactivo. Las coordenadas latitudinales y longitudinales se especifican junto con 'z', que representa la intensidad o frecuencia de los HECHOS en cada punto.\n",
    "# Se configuran varios parámetros como el radio de influencia de cada punto, el centro y zoom inicial del mapa, el estilo del mapa, la opacidad de los puntos, el título, y una paleta de colores continua basada en tonos de rojo.\n",
    "fig = px.density_mapbox(df_top_locations_freq, lat='LATITUD', lon='LONGITUD', z='Frecuencia',\n",
    "                        radius=35, center=dict(lat=-34.6037, lon=-58.3816),\n",
    "                        zoom=10, mapbox_style='open-street-map',\n",
    "                        opacity=0.7,  # Configura la opacidad de los puntos en el mapa de calor para mejorar la visualización.\n",
    "                        title='Mapa de Calor Interactivo de Hechos',\n",
    "                        color_continuous_scale=px.colors.sequential.Reds,  # Selecciona una paleta de colores en tonos rojos para representar la frecuencia de homicidios.\n",
    "                        range_color=(0, max_frequency))  # Ajusta el rango de colores para abarcar desde 0 hasta la máxima frecuencia de homicidios.\n",
    "\n",
    "# Muestra el mapa de calor interactivo. Se especifican dimensiones para la visualización, aunque esta línea parece contener un error de sintaxis y no se ejecutará como se espera. En su lugar, debería ser simplemente `fig.show()`.\n",
    "fig.show()"
   ]
  },
  {
   "cell_type": "code",
   "execution_count": null,
   "metadata": {},
   "outputs": [],
   "source": [
    "# wwoooww funcionó pero igual tampoco me sirve mucho\n",
    "# mucho por que no tengo como identificar en el mapa las comunas y eso , bueno podria cacharrear pero mehor \n",
    "# Hago otro tipo de diagrama para eso"
   ]
  },
  {
   "cell_type": "code",
   "execution_count": null,
   "metadata": {},
   "outputs": [],
   "source": [
    "''' Cantidad de accidentes por Comuna'''"
   ]
  },
  {
   "cell_type": "code",
   "execution_count": null,
   "metadata": {},
   "outputs": [],
   "source": [
    "df_accidentes.head()"
   ]
  },
  {
   "cell_type": "code",
   "execution_count": 33,
   "metadata": {},
   "outputs": [
    {
     "data": {
      "image/png": "[encoded data removed]",
      "text/plain": [
       "<Figure size 1000x600 with 1 Axes>"
      ]
     },
     "metadata": {},
     "output_type": "display_data"
    }
   ],
   "source": [
    "# Calcula el número de hechos por comuna y resetea el índice para obtener un DataFrame adecuado para el gráfico\n",
    "hechos_por_comuna = df_accidentes.groupby('COMUNA').size().reset_index(name='cantidad_hechos')\n",
    "\n",
    "# Ordena los datos por la cantidad de hechos en orden descendente\n",
    "hechos_por_comuna = hechos_por_comuna.sort_values(by='cantidad_hechos', ascending=False)\n",
    "\n",
    "# Configura el tamaño de la figura para el gráfico\n",
    "plt.figure(figsize=(10, 6))\n",
    "\n",
    "# Crea el gráfico de barras utilizando Seaborn\n",
    "sns.barplot(data=hechos_por_comuna, x='COMUNA', y='cantidad_hechos')\n",
    "\n",
    "# Añade etiquetas y título al gráfico\n",
    "plt.xlabel('Comuna')\n",
    "plt.ylabel('Número de Hechos')\n",
    "plt.title('Número de Hechos por Comuna')\n",
    "\n",
    "# Rota las etiquetas del eje x para mejorar la legibilidad\n",
    "plt.xticks(rotation=90)\n",
    "\n",
    "# Muestra el gráfico\n",
    "plt.show()\n"
   ]
  },
  {
   "cell_type": "code",
   "execution_count": null,
   "metadata": {},
   "outputs": [],
   "source": [
    "# De esta gráfica se podría concluir que la comuna\n",
    "# donde se presentan mas hechos y que es necesario impactar es la comuna #1, por un importante margen\n",
    "# Lo que indica que la zona donde se deberán desarrollar los programas será esa misma"
   ]
  },
  {
   "cell_type": "code",
   "execution_count": null,
   "metadata": {},
   "outputs": [],
   "source": [
    "''' Comportamiento edad de las Víctimas'''\n",
    "# Ya nos enfocamos en el estudio del hecho, en la geografía y ahora me centraré en la víctima\n",
    "# Es interesante revisar que edad tienen el común de las víctimas\n",
    "# Para este estudio lo podríamos hacer con un histrograma"
   ]
  },
  {
   "cell_type": "code",
   "execution_count": null,
   "metadata": {},
   "outputs": [],
   "source": [
    "df_accidentes.head()"
   ]
  },
  {
   "cell_type": "code",
   "execution_count": 34,
   "metadata": {},
   "outputs": [
    {
     "data": {
      "text/plain": [
       "<matplotlib.legend.Legend at 0x279e67feff0>"
      ]
     },
     "execution_count": 34,
     "metadata": {},
     "output_type": "execute_result"
    },
    {
     "data": {
      "image/png": "[encoded data removed]",
      "text/plain": [
       "<Figure size 1000x600 with 1 Axes>"
      ]
     },
     "metadata": {},
     "output_type": "display_data"
    }
   ],
   "source": [
    "# Convierte la columna 'EDAD-VICTIMA' a numérica, tratando los errores con 'coerce' para convertir valores no numéricos en NaN.\n",
    "df_accidentes['EDAD_VICTIMA'] = pd.to_numeric(df_accidentes['EDAD_VICTIMA'], errors='coerce')\n",
    "\n",
    "# Elimina las filas donde la edad es NaN, asegurando que solo se trabaje con datos completos para el análisis.\n",
    "df_accidentes = df_accidentes.dropna(subset=['EDAD_VICTIMA'])\n",
    "\n",
    "# Configura el tamaño de la figura para el histograma y crea el histograma con 20 barras, añadiendo bordes negros para una mejor definición visual de cada barra.\n",
    "plt.figure(figsize=(10, 6))\n",
    "n, bins, patches = plt.hist(df_accidentes['EDAD_VICTIMA'], bins=20, edgecolor='black')\n",
    "\n",
    "# Configura el colormap 'viridis' para colorear las barras del histograma, donde cada barra se colorea en función de su valor.\n",
    "colormap = cm.viridis\n",
    "bin_centers = 0.5 * (bins[:-1] + bins[1:])  # Calcula el centro de cada barra para asignar colores.\n",
    "colores = colormap(bin_centers / bin_centers.max())  # Normaliza los centros de las barras para el rango del colormap.\n",
    "\n",
    "# Aplica el color calculado a cada barra del histograma.\n",
    "for patch, color in zip(patches, colores):\n",
    "    patch.set_facecolor(color)\n",
    "\n",
    "# Ajusta y dibuja una curva de tendencia sobre el histograma. Se utiliza un polinomio de grado 5 para ajustar los centros de las barras y sus alturas.\n",
    "x_vals = np.linspace(min(bin_centers), max(bin_centers), 100)\n",
    "coefficients = np.polyfit(bin_centers, n, 5)  # Ajusta un polinomio de grado 5.\n",
    "y_vals = np.polyval(coefficients, x_vals)  # Evalúa el polinomio ajustado.\n",
    "\n",
    "# Dibuja la línea de tendencia sobre el histograma, ajustando la posición en el eje Y para mejorar la visualización.\n",
    "plt.plot(x_vals, y_vals + 10, color='purple', linestyle='-', linewidth=2, label='Tendencia')\n",
    "\n",
    "# Configura las etiquetas de los ejes y el título del gráfico para proporcionar contexto.\n",
    "plt.xlabel('Edad')\n",
    "plt.ylabel('Frecuencia')\n",
    "plt.title('Distribución de Edades de Víctimas de Homicidios')\n",
    "\n",
    "# Añade una leyenda para explicar los elementos del gráfico.\n",
    "plt.legend()\n"
   ]
  },
  {
   "cell_type": "code",
   "execution_count": null,
   "metadata": {},
   "outputs": [],
   "source": [
    "# Se observa que el grueso de las víctimas oscilan entre los 20 y 30 años, tenendo una tendencia a la baja \n",
    "# que se reactiva al rededor de los 60 que podría explicarse por el deterioro de las capacidades con la vejez.\n",
    "\n",
    "# También puede ser de interés del comportamiento la distribución de la edad de las víctimas que puede\n",
    "# se representado ccon un diagrama de bigotes"
   ]
  },
  {
   "cell_type": "code",
   "execution_count": 35,
   "metadata": {},
   "outputs": [
    {
     "data": {
      "image/png": "[encoded data removed]",
      "text/plain": [
       "<Figure size 1200x600 with 1 Axes>"
      ]
     },
     "metadata": {},
     "output_type": "display_data"
    }
   ],
   "source": [
    "# Configura el tamaño de la figura del gráfico para asegurar que el boxplot sea claramente visible y fácil de interpretar.\n",
    "plt.figure(figsize=(12, 6))\n",
    "\n",
    "# Crea un boxplot usando seaborn, que representa la distribución de las edades de las víctimas de homicidios para cada año disponible en el DataFrame 'df_homicidios'.\n",
    "# 'x' define la variable categórica (Año), 'y' la variable numérica (Edad), y 'data' especifica el DataFrame de origen.\n",
    "# La paleta 'viridis' se utiliza para colorear los boxplots, mejorando la estética y la legibilidad del gráfico.\n",
    "sns.boxplot(x='AÑO_HECHO', y='EDAD_VICTIMA', data=df_accidentes, palette='viridis')\n",
    "\n",
    "# Establece el título del gráfico para proporcionar un contexto claro sobre lo que se está analizando.\n",
    "plt.title('Boxplot de Edad por Año)s')\n",
    "\n",
    "# Etiqueta el eje X como 'Año' para identificar claramente las categorías que representan los diferentes años en el gráfico.\n",
    "plt.xlabel('Año')\n",
    "\n",
    "# Etiqueta el eje Y como 'Edad' para indicar que las medidas en el gráfico se refieren a las edades de las víctimas de homicidios.\n",
    "plt.ylabel('Edad')\n",
    "\n",
    "# Muestra el gráfico. Esta función es necesaria para visualizar el boxplot en notebooks de Jupyter o en entornos de desarrollo de Python que no renderizan automáticamente la figura.\n",
    "plt.show()\n",
    "\n"
   ]
  },
  {
   "cell_type": "code",
   "execution_count": null,
   "metadata": {},
   "outputs": [],
   "source": [
    "# Se puede concluir que independiente del año la edad de las víctimas oscila los 35-40 años"
   ]
  },
  {
   "cell_type": "code",
   "execution_count": null,
   "metadata": {},
   "outputs": [],
   "source": [
    "''' Distribución anual de la cantidad de víctimas'''\n",
    "# Al crear un gráfico de barras que separa los datos según el género para cada año, el código permite identificar\n",
    "# tendencias y posibles patrones en la incidencia de los hechos, ofreciendo\n",
    "# una visión clara de cómo las diferencias de género pueden influir en la victimización a lo largo del tiempo"
   ]
  },
  {
   "cell_type": "code",
   "execution_count": 232,
   "metadata": {},
   "outputs": [
    {
     "data": {
      "image/png": "[encoded data removed]",
      "text/plain": [
       "<Figure size 1200x600 with 1 Axes>"
      ]
     },
     "metadata": {},
     "output_type": "display_data"
    }
   ],
   "source": [
    "# Convierte todos los valores en la columna 'Sexo' a minúsculas \n",
    "df_accidentes['SEXO_VICTIMA'] = df_accidentes['SEXO_VICTIMA'].str.lower()\n",
    "\n",
    "# Establece un estilo de fondo para los gráficos generados con Seaborn, mejorando la estética visual.\n",
    "sns.set(style=\"whitegrid\")\n",
    "\n",
    "# Configura el tamaño de la figura para el gráfico a 12 pulgadas de ancho por 6 pulgadas de alto, asegurando que el gráfico sea lo suficientemente grande para una lectura clara.\n",
    "plt.figure(figsize=(12, 6))\n",
    "\n",
    "# Establece la paleta de colores 'viridis' para todos los gráficos generados por Seaborn, proporcionando una gama de colores coherente y visualmente agradable.\n",
    "sns.set_palette(\"viridis\")\n",
    "\n",
    "# Crea el gráfico de barras utilizando la función countplot de Seaborn, agrupando los datos por 'Año' y diferenciando las barras por 'Sexo'.\n",
    "ax = sns.countplot(x='AÑO_HECHO', hue='SEXO_VICTIMA', data=df_accidentes)\n",
    "\n",
    "# Configura las etiquetas del eje X como 'Año' y del eje Y como 'Número de Víctimas', clarificando lo que representa cada eje.\n",
    "ax.set_xlabel('Año')\n",
    "ax.set_ylabel('Número de Víctimas')\n",
    "\n",
    "# Establece el título del gráfico como 'Distribución de Víctimas por Género cada Año', proporcionando un contexto inmediato sobre el propósito del gráfico.\n",
    "ax.set_title('Distribución de Víctimas por Género cada Año')\n",
    "\n",
    "# Finalmente, muestra el gráfico generado. Esta función es esencial para visualizar el gráfico en entornos como notebooks de Jupyter.\n",
    "plt.show()\n"
   ]
  },
  {
   "cell_type": "code",
   "execution_count": null,
   "metadata": {},
   "outputs": [],
   "source": [
    "# De este gráfico se puede concluir que es mayor la frecuencia de víctimas de sexo masculino, \n",
    "# se podría explicar por el gusto mayoritariamente de los hombres a la velocidad en las vías"
   ]
  },
  {
   "cell_type": "code",
   "execution_count": null,
   "metadata": {},
   "outputs": [],
   "source": [
    "# Es interesante encontrar la relación de la frecuencia de las víctimas mas alla del género por el rol que \n",
    "# se ocupa dentro de la escena del hecho.\n",
    "# por lo tanto me parece que un diagrama de barras acostadas podría corresponder a dicho análisis"
   ]
  },
  {
   "cell_type": "code",
   "execution_count": null,
   "metadata": {},
   "outputs": [],
   "source": [
    "df_accidentes.head()"
   ]
  },
  {
   "cell_type": "code",
   "execution_count": null,
   "metadata": {},
   "outputs": [],
   "source": [
    "''' Rola de las Víctimas'''"
   ]
  },
  {
   "cell_type": "code",
   "execution_count": 36,
   "metadata": {},
   "outputs": [
    {
     "data": {
      "image/png": "[encoded data removed]",
      "text/plain": [
       "<Figure size 1000x600 with 1 Axes>"
      ]
     },
     "metadata": {},
     "output_type": "display_data"
    }
   ],
   "source": [
    "# Calcula el promedio y la desviación estándar de la edad por rol de víctima\n",
    "summary_data = df_accidentes.groupby('ROL_VICTIMA')['EDAD_VICTIMA'].agg(['mean', 'std']).reset_index()\n",
    "\n",
    "# Prepara una figura y un eje para el gráfico de Matplotlib, estableciendo el espacio para el gráfico que se generará.\n",
    "fig, ax = plt.subplots(figsize=(10, 6))\n",
    "\n",
    "# Itera a través de cada fila del DataFrame resumen para dibujar una barra horizontal por cada rol.\n",
    "# La barra representa la dispersión de edades (desviación estándar) alrededor del promedio, ajustando la posición de la barra para centrarla en el promedio de edad.\n",
    "for index, row in summary_data.iterrows():\n",
    "    rol = row['ROL_VICTIMA']  # Nombre de la columna corregido\n",
    "    edad_promedio = row['mean']\n",
    "    dispersion = row['std']\n",
    "\n",
    "    # Dibuja cada barra horizontal. La posición de inicio de cada barra se ajusta para centrarla en el promedio de edad.\n",
    "    ax.barh(rol, dispersion, height=1, left=edad_promedio-dispersion/2, color='blue', alpha=0.6)\n",
    "\n",
    "# Configura la etiqueta del eje X y el título del gráfico para proporcionar contexto.\n",
    "ax.set_xlabel('Edad Dispersión')\n",
    "ax.set_title('Dispersión de Edades por Rol')\n",
    "\n",
    "# Ajusta el rango del eje X para abarcar un rango específico de edades y configura los ticks y etiquetas del eje X para mejorar la legibilidad.\n",
    "ax.set_xlim(20, 80)\n",
    "ax.set_xticks(np.arange(20, 81, 5))\n",
    "ax.set_xticklabels(np.arange(20, 81, 5))\n",
    "\n",
    "# Muestra el gráfico\n",
    "plt.show()"
   ]
  },
  {
   "cell_type": "code",
   "execution_count": null,
   "metadata": {},
   "outputs": [],
   "source": [
    "# Podria borrar los registros SD pero me parece importante la estadística donde el accidente no \n",
    "# ofrece información del rol que cumplía la víctima en el hecho, que en este caso es bastante alto"
   ]
  },
  {
   "cell_type": "code",
   "execution_count": 38,
   "metadata": {},
   "outputs": [],
   "source": [
    "# Pienso que el análisis EDA, aunque se pueden analizar muchisimos aspectos mas esta bien hasta este punto,\n",
    "# por lo que voy a guardar el dataframe analizado para tener el data frame antes y después del análisis\n",
    "\n",
    "df_accidentes.to_json('df_accidentes_analizado.json')\n"
   ]
  }
 ],
 "metadata": {
  "kernelspec": {
   "display_name": "venv",
   "language": "python",
   "name": "python3"
  },
  "language_info": {
   "codemirror_mode": {
    "name": "ipython",
    "version": 3
   },
   "file_extension": ".py",
   "mimetype": "text/x-python",
   "name": "python",
   "nbconvert_exporter": "python",
   "pygments_lexer": "ipython3",
   "version": "3.12.1"
  }
 },
 "nbformat": 4,
 "nbformat_minor": 2
}
