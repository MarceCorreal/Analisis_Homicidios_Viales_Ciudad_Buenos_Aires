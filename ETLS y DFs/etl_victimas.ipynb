{
 "cells": [
  {
   "cell_type": "markdown",
   "metadata": {},
   "source": [
    "    El archivo homicidios viene con dos hojas de excel que son victimas y hechos, abro cada una en un notebook diferente para modificar y tranformar los valores que se necesite"
   ]
  },
  {
   "cell_type": "code",
   "execution_count": null,
   "metadata": {},
   "outputs": [],
   "source": [
    "pip install fastparquet"
   ]
  },
  {
   "cell_type": "code",
   "execution_count": null,
   "metadata": {},
   "outputs": [],
   "source": [
    "# Se incluye en esta basde de datos cualquier persona muerta ó herida como consecuencia de un siniestro vial"
   ]
  },
  {
   "cell_type": "code",
   "execution_count": 1,
   "metadata": {},
   "outputs": [],
   "source": [
    "import json\n",
    "import pandas as pd\n",
    "import gzip\n",
    "import ast\n",
    "from datetime import datetime"
   ]
  },
  {
   "cell_type": "code",
   "execution_count": 2,
   "metadata": {},
   "outputs": [],
   "source": [
    "# Abro libro hechos del archivo victimas y lo dejo como dataframe de csv\n",
    "\n",
    "victimas_original = r\"C:\\Users\\Usuario\\Henry\\PI2_DA\\Consigna\\victimas_original.csv\""
   ]
  },
  {
   "cell_type": "code",
   "execution_count": 3,
   "metadata": {},
   "outputs": [],
   "source": [
    "df_victimas = pd.read_csv(victimas_original)"
   ]
  },
  {
   "cell_type": "code",
   "execution_count": null,
   "metadata": {},
   "outputs": [],
   "source": [
    "df_victimas"
   ]
  },
  {
   "cell_type": "code",
   "execution_count": null,
   "metadata": {},
   "outputs": [],
   "source": [
    "df_victimas.info()"
   ]
  },
  {
   "cell_type": "code",
   "execution_count": null,
   "metadata": {},
   "outputs": [],
   "source": [
    "# Verifico con la función la calidad de los datos con la función"
   ]
  },
  {
   "cell_type": "code",
   "execution_count": 6,
   "metadata": {},
   "outputs": [],
   "source": [
    "def verificar_tipo_datos(df):\n",
    "# Genero Diccionario vació para almacenar información sobre cada columna\n",
    "    mi_dict = {\"nombre_campo\": [], \"tipo_datos\": [], \"no_nulos_%\": [], \"nulos_%\": [], \"nulos\": []}\n",
    "    \n",
    "# Iterar sobre  las columnas del DataFrame df\n",
    "    for columna in df.columns:\n",
    "        # Calcular el porcentaje de valores no nulos en la columna actual\n",
    "        porcentaje_no_nulos = (df[columna].count() / len(df)) * 100\n",
    "        \n",
    "# Agregar información de mi_dict\n",
    "        mi_dict[\"nombre_campo\"].append(columna)\n",
    "        mi_dict[\"tipo_datos\"].append(df[columna].apply(type).unique())\n",
    "        mi_dict[\"no_nulos_%\"].append(round(porcentaje_no_nulos, 2))\n",
    "        mi_dict[\"nulos_%\"].append(round(100 - porcentaje_no_nulos, 2))\n",
    "        mi_dict[\"nulos\"].append(df[columna].isnull().sum())\n",
    "        \n",
    "# Crear un DataFrame con la información recopilada\n",
    "    df_info = pd.DataFrame(mi_dict)\n",
    "    \n",
    "# Calcular el total de valores nulos en el DataFrame\n",
    "    total_nulos = df.isnull().sum().sum()\n",
    "    \n",
    "# Imprimir el total de valores nulos\n",
    "    print(f'Total de valores nulos en el DataFrame: {total_nulos}')\n",
    "    \n",
    "# Mostrar las columnas con valores nulos y sus respectivos porcentajes (ordenadas de mayor a menor)\n",
    "    columnas_con_nulos = df_info[df_info[\"nulos\"] > 0][[\"nombre_campo\", \"nulos_%\"]].sort_values(by=\"nulos_%\", ascending=False)\n",
    "    if not columnas_con_nulos.empty:\n",
    "        print(\"\\nColumnas con valores nulos y sus porcentajes:\")\n",
    "        print(columnas_con_nulos)\n",
    "        \n",
    "# Devolver el DataFrame con la información de cada columna\n",
    "\n",
    "    return df_info"
   ]
  },
  {
   "cell_type": "code",
   "execution_count": null,
   "metadata": {},
   "outputs": [],
   "source": [
    "verificar_tipo_datos(df_victimas)"
   ]
  },
  {
   "cell_type": "code",
   "execution_count": null,
   "metadata": {},
   "outputs": [],
   "source": [
    "df_victimas.info()"
   ]
  },
  {
   "cell_type": "code",
   "execution_count": null,
   "metadata": {},
   "outputs": [],
   "source": [
    "# Veo que no hay nulos y esta super. Tengo una columna en comun con el id del hecho\n",
    "# cambiaré el título po ID para poder hacer merge. la fecha se repetiria así que borrare    faltaría sexo, edad, fecha fallecimiento y ROL"
   ]
  },
  {
   "cell_type": "code",
   "execution_count": null,
   "metadata": {},
   "outputs": [],
   "source": [
    "df_victimas.info()"
   ]
  },
  {
   "cell_type": "code",
   "execution_count": 9,
   "metadata": {},
   "outputs": [],
   "source": [
    "# Borro columnas referentes a fecha\n",
    "\n",
    "columnas_borrar = ['FECHA', 'AAAA', 'MM', 'DD']\n",
    "df_victimas = df_victimas.drop(columnas_borrar, axis=1)\n"
   ]
  },
  {
   "cell_type": "code",
   "execution_count": null,
   "metadata": {},
   "outputs": [],
   "source": [
    "df_victimas.head()"
   ]
  },
  {
   "cell_type": "code",
   "execution_count": 10,
   "metadata": {},
   "outputs": [],
   "source": [
    "# Grabo el df que esta listo para el análisis\n",
    "\n",
    "df_victimas.to_parquet('df_victimas.parquet')\n"
   ]
  }
 ],
 "metadata": {
  "kernelspec": {
   "display_name": "Python 3",
   "language": "python",
   "name": "python3"
  },
  "language_info": {
   "codemirror_mode": {
    "name": "ipython",
    "version": 3
   },
   "file_extension": ".py",
   "mimetype": "text/x-python",
   "name": "python",
   "nbconvert_exporter": "python",
   "pygments_lexer": "ipython3",
   "version": "3.12.1"
  }
 },
 "nbformat": 4,
 "nbformat_minor": 2
}
